{
  "nbformat": 4,
  "nbformat_minor": 0,
  "metadata": {
    "colab": {
      "provenance": [],
      "collapsed_sections": [
        "Pg6qx1NK8PiH"
      ]
    },
    "kernelspec": {
      "name": "python3",
      "display_name": "Python 3"
    },
    "language_info": {
      "name": "python"
    }
  },
  "cells": [
    {
      "cell_type": "markdown",
      "metadata": {
        "id": "EwDhOF0aZBfE"
      },
      "source": [
        "# Forum Enhacement Dashboard"
      ]
    },
    {
      "cell_type": "markdown",
      "source": [
        "Sara Piñas García (100472784)\n",
        "\n",
        "Ángela Durán Pinto (100472766)\n",
        "\n",
        "Marina Gómez Rey (100472836)\n",
        "\n",
        "María Ángeles Magro Garrote (100472867)\n"
      ],
      "metadata": {
        "id": "V6Z9SFMjqgbd"
      }
    },
    {
      "cell_type": "markdown",
      "source": [
        "This dashboard offers a dynamic platform for exploring and analyzing forum discussions with ease and enjoyment. Dive into clusters of forum posts, visualize emotional distributions, and discover valuable insights into trending topics. With interactive features such as sentiment-based post selection and emoji recommendations, users can engage with the forum content."
      ],
      "metadata": {
        "id": "oYTd9qi4i9_W"
      }
    },
    {
      "cell_type": "markdown",
      "metadata": {
        "id": "Pg6qx1NK8PiH"
      },
      "source": [
        "## Imports"
      ]
    },
    {
      "cell_type": "code",
      "source": [
        "pip install -q dash"
      ],
      "metadata": {
        "id": "ubKPj-gZBlFO",
        "colab": {
          "base_uri": "https://localhost:8080/"
        },
        "outputId": "0150ce77-7ab7-4495-ee6d-0f5a78887907"
      },
      "execution_count": 1,
      "outputs": [
        {
          "output_type": "stream",
          "name": "stdout",
          "text": [
            "\u001b[?25l     \u001b[90m━━━━━━━━━━━━━━━━━━━━━━━━━━━━━━━━━━━━━━━━\u001b[0m \u001b[32m0.0/7.5 MB\u001b[0m \u001b[31m?\u001b[0m eta \u001b[36m-:--:--\u001b[0m\r\u001b[2K     \u001b[91m━\u001b[0m\u001b[91m╸\u001b[0m\u001b[90m━━━━━━━━━━━━━━━━━━━━━━━━━━━━━━━━━━━━━━\u001b[0m \u001b[32m0.3/7.5 MB\u001b[0m \u001b[31m9.2 MB/s\u001b[0m eta \u001b[36m0:00:01\u001b[0m\r\u001b[2K     \u001b[91m━━━━━━━━━━━━━━━━━━━━━━━━━━━\u001b[0m\u001b[91m╸\u001b[0m\u001b[90m━━━━━━━━━━━━\u001b[0m \u001b[32m5.2/7.5 MB\u001b[0m \u001b[31m75.5 MB/s\u001b[0m eta \u001b[36m0:00:01\u001b[0m\r\u001b[2K     \u001b[91m━━━━━━━━━━━━━━━━━━━━━━━━━━━━━━━━━━━━━━━\u001b[0m\u001b[91m╸\u001b[0m \u001b[32m7.5/7.5 MB\u001b[0m \u001b[31m89.1 MB/s\u001b[0m eta \u001b[36m0:00:01\u001b[0m\r\u001b[2K     \u001b[90m━━━━━━━━━━━━━━━━━━━━━━━━━━━━━━━━━━━━━━━━\u001b[0m \u001b[32m7.5/7.5 MB\u001b[0m \u001b[31m56.4 MB/s\u001b[0m eta \u001b[36m0:00:00\u001b[0m\n",
            "\u001b[?25h"
          ]
        }
      ]
    },
    {
      "cell_type": "code",
      "source": [
        "pip install -q dash-bootstrap-components"
      ],
      "metadata": {
        "id": "YQklKfsvBfLj",
        "colab": {
          "base_uri": "https://localhost:8080/"
        },
        "outputId": "730f6116-602e-4747-b930-facf055a3e00"
      },
      "execution_count": 2,
      "outputs": [
        {
          "output_type": "stream",
          "name": "stdout",
          "text": [
            "\u001b[?25l     \u001b[90m━━━━━━━━━━━━━━━━━━━━━━━━━━━━━━━━━━━━━━━━\u001b[0m \u001b[32m0.0/222.5 kB\u001b[0m \u001b[31m?\u001b[0m eta \u001b[36m-:--:--\u001b[0m\r\u001b[2K     \u001b[91m━━━━━━━━━━━\u001b[0m\u001b[90m╺\u001b[0m\u001b[90m━━━━━━━━━━━━━━━━━━━━━━━━━━━━\u001b[0m \u001b[32m61.4/222.5 kB\u001b[0m \u001b[31m1.6 MB/s\u001b[0m eta \u001b[36m0:00:01\u001b[0m\r\u001b[2K     \u001b[90m━━━━━━━━━━━━━━━━━━━━━━━━━━━━━━━━━━━━━━━━\u001b[0m \u001b[32m222.5/222.5 kB\u001b[0m \u001b[31m3.5 MB/s\u001b[0m eta \u001b[36m0:00:00\u001b[0m\n",
            "\u001b[?25h"
          ]
        }
      ]
    },
    {
      "cell_type": "code",
      "source": [
        "pip install -q dash-mantine-components"
      ],
      "metadata": {
        "id": "oO59AFsfBnHu",
        "colab": {
          "base_uri": "https://localhost:8080/"
        },
        "outputId": "b8ba980c-b0b5-421b-bcbc-84f309ef041c"
      },
      "execution_count": 3,
      "outputs": [
        {
          "output_type": "stream",
          "name": "stdout",
          "text": [
            "\u001b[?25l     \u001b[90m━━━━━━━━━━━━━━━━━━━━━━━━━━━━━━━━━━━━━━━━\u001b[0m \u001b[32m0.0/1.4 MB\u001b[0m \u001b[31m?\u001b[0m eta \u001b[36m-:--:--\u001b[0m\r\u001b[2K     \u001b[91m━\u001b[0m\u001b[90m╺\u001b[0m\u001b[90m━━━━━━━━━━━━━━━━━━━━━━━━━━━━━━━━━━━━━━\u001b[0m \u001b[32m0.0/1.4 MB\u001b[0m \u001b[31m1.1 MB/s\u001b[0m eta \u001b[36m0:00:02\u001b[0m\r\u001b[2K     \u001b[91m━━━━━━━━\u001b[0m\u001b[90m╺\u001b[0m\u001b[90m━━━━━━━━━━━━━━━━━━━━━━━━━━━━━━━\u001b[0m \u001b[32m0.3/1.4 MB\u001b[0m \u001b[31m3.9 MB/s\u001b[0m eta \u001b[36m0:00:01\u001b[0m\r\u001b[2K     \u001b[90m━━━━━━━━━━━━━━━━━━━━━━━━━━━━━━━━━━━━━━━━\u001b[0m \u001b[32m1.4/1.4 MB\u001b[0m \u001b[31m12.7 MB/s\u001b[0m eta \u001b[36m0:00:00\u001b[0m\n",
            "\u001b[?25h"
          ]
        }
      ]
    },
    {
      "cell_type": "code",
      "source": [
        "!pip install jupyter-dash\n",
        "!pip install dash-bootstrap-components\n",
        "!pip install plotly"
      ],
      "metadata": {
        "colab": {
          "base_uri": "https://localhost:8080/"
        },
        "id": "GreO6w2axRFf",
        "outputId": "265aeba2-eb76-4ac5-9342-1b6205e01712"
      },
      "execution_count": 4,
      "outputs": [
        {
          "output_type": "stream",
          "name": "stdout",
          "text": [
            "Collecting jupyter-dash\n",
            "  Downloading jupyter_dash-0.4.2-py3-none-any.whl (23 kB)\n",
            "Requirement already satisfied: dash in /usr/local/lib/python3.10/dist-packages (from jupyter-dash) (2.17.0)\n",
            "Requirement already satisfied: requests in /usr/local/lib/python3.10/dist-packages (from jupyter-dash) (2.31.0)\n",
            "Requirement already satisfied: flask in /usr/local/lib/python3.10/dist-packages (from jupyter-dash) (2.2.5)\n",
            "Requirement already satisfied: retrying in /usr/local/lib/python3.10/dist-packages (from jupyter-dash) (1.3.4)\n",
            "Requirement already satisfied: ipython in /usr/local/lib/python3.10/dist-packages (from jupyter-dash) (7.34.0)\n",
            "Requirement already satisfied: ipykernel in /usr/local/lib/python3.10/dist-packages (from jupyter-dash) (5.5.6)\n",
            "Collecting ansi2html (from jupyter-dash)\n",
            "  Downloading ansi2html-1.9.1-py3-none-any.whl (17 kB)\n",
            "Requirement already satisfied: nest-asyncio in /usr/local/lib/python3.10/dist-packages (from jupyter-dash) (1.6.0)\n",
            "Requirement already satisfied: Werkzeug<3.1 in /usr/local/lib/python3.10/dist-packages (from dash->jupyter-dash) (3.0.2)\n",
            "Requirement already satisfied: plotly>=5.0.0 in /usr/local/lib/python3.10/dist-packages (from dash->jupyter-dash) (5.15.0)\n",
            "Requirement already satisfied: dash-html-components==2.0.0 in /usr/local/lib/python3.10/dist-packages (from dash->jupyter-dash) (2.0.0)\n",
            "Requirement already satisfied: dash-core-components==2.0.0 in /usr/local/lib/python3.10/dist-packages (from dash->jupyter-dash) (2.0.0)\n",
            "Requirement already satisfied: dash-table==5.0.0 in /usr/local/lib/python3.10/dist-packages (from dash->jupyter-dash) (5.0.0)\n",
            "Requirement already satisfied: importlib-metadata in /usr/local/lib/python3.10/dist-packages (from dash->jupyter-dash) (7.1.0)\n",
            "Requirement already satisfied: typing-extensions>=4.1.1 in /usr/local/lib/python3.10/dist-packages (from dash->jupyter-dash) (4.11.0)\n",
            "Requirement already satisfied: setuptools in /usr/local/lib/python3.10/dist-packages (from dash->jupyter-dash) (67.7.2)\n",
            "Requirement already satisfied: Jinja2>=3.0 in /usr/local/lib/python3.10/dist-packages (from flask->jupyter-dash) (3.1.3)\n",
            "Requirement already satisfied: itsdangerous>=2.0 in /usr/local/lib/python3.10/dist-packages (from flask->jupyter-dash) (2.2.0)\n",
            "Requirement already satisfied: click>=8.0 in /usr/local/lib/python3.10/dist-packages (from flask->jupyter-dash) (8.1.7)\n",
            "Requirement already satisfied: ipython-genutils in /usr/local/lib/python3.10/dist-packages (from ipykernel->jupyter-dash) (0.2.0)\n",
            "Requirement already satisfied: traitlets>=4.1.0 in /usr/local/lib/python3.10/dist-packages (from ipykernel->jupyter-dash) (5.7.1)\n",
            "Requirement already satisfied: jupyter-client in /usr/local/lib/python3.10/dist-packages (from ipykernel->jupyter-dash) (6.1.12)\n",
            "Requirement already satisfied: tornado>=4.2 in /usr/local/lib/python3.10/dist-packages (from ipykernel->jupyter-dash) (6.3.3)\n",
            "Collecting jedi>=0.16 (from ipython->jupyter-dash)\n",
            "  Downloading jedi-0.19.1-py2.py3-none-any.whl (1.6 MB)\n",
            "\u001b[2K     \u001b[90m━━━━━━━━━━━━━━━━━━━━━━━━━━━━━━━━━━━━━━━━\u001b[0m \u001b[32m1.6/1.6 MB\u001b[0m \u001b[31m15.2 MB/s\u001b[0m eta \u001b[36m0:00:00\u001b[0m\n",
            "\u001b[?25hRequirement already satisfied: decorator in /usr/local/lib/python3.10/dist-packages (from ipython->jupyter-dash) (4.4.2)\n",
            "Requirement already satisfied: pickleshare in /usr/local/lib/python3.10/dist-packages (from ipython->jupyter-dash) (0.7.5)\n",
            "Requirement already satisfied: prompt-toolkit!=3.0.0,!=3.0.1,<3.1.0,>=2.0.0 in /usr/local/lib/python3.10/dist-packages (from ipython->jupyter-dash) (3.0.43)\n",
            "Requirement already satisfied: pygments in /usr/local/lib/python3.10/dist-packages (from ipython->jupyter-dash) (2.16.1)\n",
            "Requirement already satisfied: backcall in /usr/local/lib/python3.10/dist-packages (from ipython->jupyter-dash) (0.2.0)\n",
            "Requirement already satisfied: matplotlib-inline in /usr/local/lib/python3.10/dist-packages (from ipython->jupyter-dash) (0.1.7)\n",
            "Requirement already satisfied: pexpect>4.3 in /usr/local/lib/python3.10/dist-packages (from ipython->jupyter-dash) (4.9.0)\n",
            "Requirement already satisfied: charset-normalizer<4,>=2 in /usr/local/lib/python3.10/dist-packages (from requests->jupyter-dash) (3.3.2)\n",
            "Requirement already satisfied: idna<4,>=2.5 in /usr/local/lib/python3.10/dist-packages (from requests->jupyter-dash) (3.7)\n",
            "Requirement already satisfied: urllib3<3,>=1.21.1 in /usr/local/lib/python3.10/dist-packages (from requests->jupyter-dash) (2.0.7)\n",
            "Requirement already satisfied: certifi>=2017.4.17 in /usr/local/lib/python3.10/dist-packages (from requests->jupyter-dash) (2024.2.2)\n",
            "Requirement already satisfied: six>=1.7.0 in /usr/local/lib/python3.10/dist-packages (from retrying->jupyter-dash) (1.16.0)\n",
            "Requirement already satisfied: parso<0.9.0,>=0.8.3 in /usr/local/lib/python3.10/dist-packages (from jedi>=0.16->ipython->jupyter-dash) (0.8.4)\n",
            "Requirement already satisfied: MarkupSafe>=2.0 in /usr/local/lib/python3.10/dist-packages (from Jinja2>=3.0->flask->jupyter-dash) (2.1.5)\n",
            "Requirement already satisfied: ptyprocess>=0.5 in /usr/local/lib/python3.10/dist-packages (from pexpect>4.3->ipython->jupyter-dash) (0.7.0)\n",
            "Requirement already satisfied: tenacity>=6.2.0 in /usr/local/lib/python3.10/dist-packages (from plotly>=5.0.0->dash->jupyter-dash) (8.2.3)\n",
            "Requirement already satisfied: packaging in /usr/local/lib/python3.10/dist-packages (from plotly>=5.0.0->dash->jupyter-dash) (24.0)\n",
            "Requirement already satisfied: wcwidth in /usr/local/lib/python3.10/dist-packages (from prompt-toolkit!=3.0.0,!=3.0.1,<3.1.0,>=2.0.0->ipython->jupyter-dash) (0.2.13)\n",
            "Requirement already satisfied: zipp>=0.5 in /usr/local/lib/python3.10/dist-packages (from importlib-metadata->dash->jupyter-dash) (3.18.1)\n",
            "Requirement already satisfied: jupyter-core>=4.6.0 in /usr/local/lib/python3.10/dist-packages (from jupyter-client->ipykernel->jupyter-dash) (5.7.2)\n",
            "Requirement already satisfied: pyzmq>=13 in /usr/local/lib/python3.10/dist-packages (from jupyter-client->ipykernel->jupyter-dash) (24.0.1)\n",
            "Requirement already satisfied: python-dateutil>=2.1 in /usr/local/lib/python3.10/dist-packages (from jupyter-client->ipykernel->jupyter-dash) (2.8.2)\n",
            "Requirement already satisfied: platformdirs>=2.5 in /usr/local/lib/python3.10/dist-packages (from jupyter-core>=4.6.0->jupyter-client->ipykernel->jupyter-dash) (4.2.1)\n",
            "Installing collected packages: jedi, ansi2html, jupyter-dash\n",
            "Successfully installed ansi2html-1.9.1 jedi-0.19.1 jupyter-dash-0.4.2\n",
            "Requirement already satisfied: dash-bootstrap-components in /usr/local/lib/python3.10/dist-packages (1.6.0)\n",
            "Requirement already satisfied: dash>=2.0.0 in /usr/local/lib/python3.10/dist-packages (from dash-bootstrap-components) (2.17.0)\n",
            "Requirement already satisfied: Flask<3.1,>=1.0.4 in /usr/local/lib/python3.10/dist-packages (from dash>=2.0.0->dash-bootstrap-components) (2.2.5)\n",
            "Requirement already satisfied: Werkzeug<3.1 in /usr/local/lib/python3.10/dist-packages (from dash>=2.0.0->dash-bootstrap-components) (3.0.2)\n",
            "Requirement already satisfied: plotly>=5.0.0 in /usr/local/lib/python3.10/dist-packages (from dash>=2.0.0->dash-bootstrap-components) (5.15.0)\n",
            "Requirement already satisfied: dash-html-components==2.0.0 in /usr/local/lib/python3.10/dist-packages (from dash>=2.0.0->dash-bootstrap-components) (2.0.0)\n",
            "Requirement already satisfied: dash-core-components==2.0.0 in /usr/local/lib/python3.10/dist-packages (from dash>=2.0.0->dash-bootstrap-components) (2.0.0)\n",
            "Requirement already satisfied: dash-table==5.0.0 in /usr/local/lib/python3.10/dist-packages (from dash>=2.0.0->dash-bootstrap-components) (5.0.0)\n",
            "Requirement already satisfied: importlib-metadata in /usr/local/lib/python3.10/dist-packages (from dash>=2.0.0->dash-bootstrap-components) (7.1.0)\n",
            "Requirement already satisfied: typing-extensions>=4.1.1 in /usr/local/lib/python3.10/dist-packages (from dash>=2.0.0->dash-bootstrap-components) (4.11.0)\n",
            "Requirement already satisfied: requests in /usr/local/lib/python3.10/dist-packages (from dash>=2.0.0->dash-bootstrap-components) (2.31.0)\n",
            "Requirement already satisfied: retrying in /usr/local/lib/python3.10/dist-packages (from dash>=2.0.0->dash-bootstrap-components) (1.3.4)\n",
            "Requirement already satisfied: nest-asyncio in /usr/local/lib/python3.10/dist-packages (from dash>=2.0.0->dash-bootstrap-components) (1.6.0)\n",
            "Requirement already satisfied: setuptools in /usr/local/lib/python3.10/dist-packages (from dash>=2.0.0->dash-bootstrap-components) (67.7.2)\n",
            "Requirement already satisfied: Jinja2>=3.0 in /usr/local/lib/python3.10/dist-packages (from Flask<3.1,>=1.0.4->dash>=2.0.0->dash-bootstrap-components) (3.1.3)\n",
            "Requirement already satisfied: itsdangerous>=2.0 in /usr/local/lib/python3.10/dist-packages (from Flask<3.1,>=1.0.4->dash>=2.0.0->dash-bootstrap-components) (2.2.0)\n",
            "Requirement already satisfied: click>=8.0 in /usr/local/lib/python3.10/dist-packages (from Flask<3.1,>=1.0.4->dash>=2.0.0->dash-bootstrap-components) (8.1.7)\n",
            "Requirement already satisfied: tenacity>=6.2.0 in /usr/local/lib/python3.10/dist-packages (from plotly>=5.0.0->dash>=2.0.0->dash-bootstrap-components) (8.2.3)\n",
            "Requirement already satisfied: packaging in /usr/local/lib/python3.10/dist-packages (from plotly>=5.0.0->dash>=2.0.0->dash-bootstrap-components) (24.0)\n",
            "Requirement already satisfied: MarkupSafe>=2.1.1 in /usr/local/lib/python3.10/dist-packages (from Werkzeug<3.1->dash>=2.0.0->dash-bootstrap-components) (2.1.5)\n",
            "Requirement already satisfied: zipp>=0.5 in /usr/local/lib/python3.10/dist-packages (from importlib-metadata->dash>=2.0.0->dash-bootstrap-components) (3.18.1)\n",
            "Requirement already satisfied: charset-normalizer<4,>=2 in /usr/local/lib/python3.10/dist-packages (from requests->dash>=2.0.0->dash-bootstrap-components) (3.3.2)\n",
            "Requirement already satisfied: idna<4,>=2.5 in /usr/local/lib/python3.10/dist-packages (from requests->dash>=2.0.0->dash-bootstrap-components) (3.7)\n",
            "Requirement already satisfied: urllib3<3,>=1.21.1 in /usr/local/lib/python3.10/dist-packages (from requests->dash>=2.0.0->dash-bootstrap-components) (2.0.7)\n",
            "Requirement already satisfied: certifi>=2017.4.17 in /usr/local/lib/python3.10/dist-packages (from requests->dash>=2.0.0->dash-bootstrap-components) (2024.2.2)\n",
            "Requirement already satisfied: six>=1.7.0 in /usr/local/lib/python3.10/dist-packages (from retrying->dash>=2.0.0->dash-bootstrap-components) (1.16.0)\n",
            "Requirement already satisfied: plotly in /usr/local/lib/python3.10/dist-packages (5.15.0)\n",
            "Requirement already satisfied: tenacity>=6.2.0 in /usr/local/lib/python3.10/dist-packages (from plotly) (8.2.3)\n",
            "Requirement already satisfied: packaging in /usr/local/lib/python3.10/dist-packages (from plotly) (24.0)\n"
          ]
        }
      ]
    },
    {
      "cell_type": "code",
      "source": [
        "import os\n",
        "import numpy as np\n",
        "import pandas as pd\n",
        "from termcolor import colored\n",
        "import seaborn as sns\n",
        "import matplotlib.pyplot as plt\n",
        "import sys\n",
        "import pathlib\n",
        "import networkx as nx\n",
        "import scipy.sparse as scsp\n",
        "from collections import Counter"
      ],
      "metadata": {
        "id": "sFfOdzKmXf9z"
      },
      "execution_count": 5,
      "outputs": []
    },
    {
      "cell_type": "code",
      "source": [
        "# Common imports\n",
        "import os\n",
        "import numpy as np\n",
        "import pandas as pd\n",
        "from termcolor import colored\n",
        "import seaborn as sns\n",
        "import matplotlib.pyplot as plt\n",
        "import sys\n",
        "import pathlib\n",
        "import networkx as nx\n",
        "import scipy.sparse as scsp\n",
        "from collections import Counter\n",
        "\n",
        "\n",
        "# Figures plotted inside the notebook\n",
        "%matplotlib inline\n",
        "# High quality figures\n",
        "%config InlineBackend.figure_format = 'retina'\n",
        "# Figures style\n",
        "plt.style.use('seaborn-whitegrid')\n",
        "sns.set_style(\"darkgrid\")\n",
        "sns.color_palette(\"deep\")\n",
        "# Figues size\n",
        "plt.rcParams['figure.figsize'] = [8, 6]\n",
        "\n",
        "#To wrap long text lines\n",
        "from IPython.display import HTML, display\n",
        "\n",
        "def set_css():\n",
        "  display(HTML('''\n",
        "  <style>\n",
        "    pre {white-space: pre-wrap;\n",
        "    }\n",
        "  </style>\n",
        "  '''))\n",
        "get_ipython().events.register('pre_run_cell', set_css)"
      ],
      "metadata": {
        "id": "RlrxIh_TXkDn",
        "colab": {
          "base_uri": "https://localhost:8080/"
        },
        "outputId": "3bb9f269-50d1-4a47-8e0f-a75eea47d48a"
      },
      "execution_count": 6,
      "outputs": [
        {
          "output_type": "stream",
          "name": "stderr",
          "text": [
            "<ipython-input-6-3f442b7a44d5>:20: MatplotlibDeprecationWarning: The seaborn styles shipped by Matplotlib are deprecated since 3.6, as they no longer correspond to the styles shipped by seaborn. However, they will remain available as 'seaborn-v0_8-<style>'. Alternatively, directly use the seaborn API instead.\n",
            "  plt.style.use('seaborn-whitegrid')\n"
          ]
        }
      ]
    },
    {
      "cell_type": "code",
      "source": [
        "# To wrap long text lines\n",
        "from IPython.display import HTML, display\n",
        "\n",
        "def set_css():\n",
        "  display(HTML('''\n",
        "  <style>\n",
        "    pre {\n",
        "        white-space: pre-wrap;\n",
        "    }\n",
        "  </style>\n",
        "  '''))\n",
        "get_ipython().events.register('pre_run_cell', set_css)"
      ],
      "metadata": {
        "id": "iHDPK-cDXkDo",
        "colab": {
          "base_uri": "https://localhost:8080/",
          "height": 17
        },
        "outputId": "a4006eeb-f7da-4e8f-9e35-264f732c67d8"
      },
      "execution_count": 7,
      "outputs": [
        {
          "output_type": "display_data",
          "data": {
            "text/plain": [
              "<IPython.core.display.HTML object>"
            ],
            "text/html": [
              "\n",
              "  <style>\n",
              "    pre {white-space: pre-wrap;\n",
              "    }\n",
              "  </style>\n",
              "  "
            ]
          },
          "metadata": {}
        }
      ]
    },
    {
      "cell_type": "code",
      "source": [
        "# For fancy table Display\n",
        "%load_ext google.colab.data_table"
      ],
      "metadata": {
        "id": "wZQ9xeESPpz8",
        "colab": {
          "base_uri": "https://localhost:8080/",
          "height": 17
        },
        "outputId": "74c074d3-0271-4233-90d2-6421ac2b62f3"
      },
      "execution_count": 8,
      "outputs": [
        {
          "output_type": "display_data",
          "data": {
            "text/plain": [
              "<IPython.core.display.HTML object>"
            ],
            "text/html": [
              "\n",
              "  <style>\n",
              "    pre {white-space: pre-wrap;\n",
              "    }\n",
              "  </style>\n",
              "  "
            ]
          },
          "metadata": {}
        },
        {
          "output_type": "display_data",
          "data": {
            "text/plain": [
              "<IPython.core.display.HTML object>"
            ],
            "text/html": [
              "\n",
              "  <style>\n",
              "    pre {\n",
              "        white-space: pre-wrap;\n",
              "    }\n",
              "  </style>\n",
              "  "
            ]
          },
          "metadata": {}
        }
      ]
    },
    {
      "cell_type": "code",
      "source": [
        "import re\n",
        "import nltk\n",
        "from bs4 import BeautifulSoup\n",
        "from nltk.tokenize import wordpunct_tokenize\n",
        "from nltk.stem import WordNetLemmatizer\n",
        "from nltk.corpus import stopwords\n",
        "\n",
        "def check_nltk_packages():\n",
        "  packages = ['punkt','stopwords','omw-1.4','wordnet']\n",
        "\n",
        "  for package in packages:\n",
        "    try:\n",
        "      nltk.data.find('tokenizers/' + package)\n",
        "    except LookupError:\n",
        "      nltk.download(package)\n",
        "check_nltk_packages()\n",
        "\n",
        "try:\n",
        "  import lxml\n",
        "except ModuleNotFoundError:\n",
        "  %pip install lxml\n",
        "\n",
        "try:\n",
        "  import contractions\n",
        "except ModuleNotFoundError:\n",
        "  %pip install contractions\n",
        "  import contractions\n",
        "\n",
        "from bs4 import BeautifulSoup\n",
        "import re"
      ],
      "metadata": {
        "id": "kw2WKNGHPxZ7",
        "colab": {
          "base_uri": "https://localhost:8080/",
          "height": 349
        },
        "outputId": "48ae9735-1980-49e6-fdf4-a019eb5cf6b6"
      },
      "execution_count": 9,
      "outputs": [
        {
          "output_type": "display_data",
          "data": {
            "text/plain": [
              "<IPython.core.display.HTML object>"
            ],
            "text/html": [
              "\n",
              "  <style>\n",
              "    pre {white-space: pre-wrap;\n",
              "    }\n",
              "  </style>\n",
              "  "
            ]
          },
          "metadata": {}
        },
        {
          "output_type": "display_data",
          "data": {
            "text/plain": [
              "<IPython.core.display.HTML object>"
            ],
            "text/html": [
              "\n",
              "  <style>\n",
              "    pre {\n",
              "        white-space: pre-wrap;\n",
              "    }\n",
              "  </style>\n",
              "  "
            ]
          },
          "metadata": {}
        },
        {
          "output_type": "stream",
          "name": "stderr",
          "text": [
            "[nltk_data] Downloading package punkt to /root/nltk_data...\n",
            "[nltk_data]   Unzipping tokenizers/punkt.zip.\n",
            "[nltk_data] Downloading package stopwords to /root/nltk_data...\n",
            "[nltk_data]   Unzipping corpora/stopwords.zip.\n",
            "[nltk_data] Downloading package omw-1.4 to /root/nltk_data...\n",
            "[nltk_data] Downloading package wordnet to /root/nltk_data...\n"
          ]
        },
        {
          "output_type": "stream",
          "name": "stdout",
          "text": [
            "Collecting contractions\n",
            "  Downloading contractions-0.1.73-py2.py3-none-any.whl (8.7 kB)\n",
            "Collecting textsearch>=0.0.21 (from contractions)\n",
            "  Downloading textsearch-0.0.24-py2.py3-none-any.whl (7.6 kB)\n",
            "Collecting anyascii (from textsearch>=0.0.21->contractions)\n",
            "  Downloading anyascii-0.3.2-py3-none-any.whl (289 kB)\n",
            "\u001b[2K     \u001b[90m━━━━━━━━━━━━━━━━━━━━━━━━━━━━━━━━━━━━━━━━\u001b[0m \u001b[32m289.9/289.9 kB\u001b[0m \u001b[31m7.1 MB/s\u001b[0m eta \u001b[36m0:00:00\u001b[0m\n",
            "\u001b[?25hCollecting pyahocorasick (from textsearch>=0.0.21->contractions)\n",
            "  Downloading pyahocorasick-2.1.0-cp310-cp310-manylinux_2_5_x86_64.manylinux1_x86_64.manylinux_2_12_x86_64.manylinux2010_x86_64.whl (110 kB)\n",
            "\u001b[2K     \u001b[90m━━━━━━━━━━━━━━━━━━━━━━━━━━━━━━━━━━━━━━━━\u001b[0m \u001b[32m110.7/110.7 kB\u001b[0m \u001b[31m15.5 MB/s\u001b[0m eta \u001b[36m0:00:00\u001b[0m\n",
            "\u001b[?25hInstalling collected packages: pyahocorasick, anyascii, textsearch, contractions\n",
            "Successfully installed anyascii-0.3.2 contractions-0.1.73 pyahocorasick-2.1.0 textsearch-0.0.24\n"
          ]
        }
      ]
    },
    {
      "cell_type": "code",
      "execution_count": 10,
      "metadata": {
        "id": "JkJRIZsMlnem",
        "colab": {
          "base_uri": "https://localhost:8080/",
          "height": 72
        },
        "outputId": "153a7ff6-0a5a-4d74-e01b-cf3ee57bfe66"
      },
      "outputs": [
        {
          "output_type": "display_data",
          "data": {
            "text/plain": [
              "<IPython.core.display.HTML object>"
            ],
            "text/html": [
              "\n",
              "  <style>\n",
              "    pre {white-space: pre-wrap;\n",
              "    }\n",
              "  </style>\n",
              "  "
            ]
          },
          "metadata": {}
        },
        {
          "output_type": "display_data",
          "data": {
            "text/plain": [
              "<IPython.core.display.HTML object>"
            ],
            "text/html": [
              "\n",
              "  <style>\n",
              "    pre {\n",
              "        white-space: pre-wrap;\n",
              "    }\n",
              "  </style>\n",
              "  "
            ]
          },
          "metadata": {}
        },
        {
          "output_type": "stream",
          "name": "stderr",
          "text": [
            "<ipython-input-10-3f442b7a44d5>:20: MatplotlibDeprecationWarning: The seaborn styles shipped by Matplotlib are deprecated since 3.6, as they no longer correspond to the styles shipped by seaborn. However, they will remain available as 'seaborn-v0_8-<style>'. Alternatively, directly use the seaborn API instead.\n",
            "  plt.style.use('seaborn-whitegrid')\n"
          ]
        }
      ],
      "source": [
        "# Common imports\n",
        "import os\n",
        "import numpy as np\n",
        "import pandas as pd\n",
        "from termcolor import colored\n",
        "import seaborn as sns\n",
        "import matplotlib.pyplot as plt\n",
        "import sys\n",
        "import pathlib\n",
        "import networkx as nx\n",
        "import scipy.sparse as scsp\n",
        "from collections import Counter\n",
        "\n",
        "\n",
        "# Figures plotted inside the notebook\n",
        "%matplotlib inline\n",
        "# High quality figures\n",
        "%config InlineBackend.figure_format = 'retina'\n",
        "# Figures style\n",
        "plt.style.use('seaborn-whitegrid')\n",
        "sns.set_style(\"darkgrid\")\n",
        "sns.color_palette(\"deep\")\n",
        "# Figues size\n",
        "plt.rcParams['figure.figsize'] = [8, 6]\n",
        "\n",
        "#To wrap long text lines\n",
        "from IPython.display import HTML, display\n",
        "\n",
        "def set_css():\n",
        "  display(HTML('''\n",
        "  <style>\n",
        "    pre {white-space: pre-wrap;\n",
        "    }\n",
        "  </style>\n",
        "  '''))\n",
        "get_ipython().events.register('pre_run_cell', set_css)"
      ]
    },
    {
      "cell_type": "code",
      "source": [
        "import dash\n",
        "from dash import Dash, html, dash_table, dcc, callback, Output, Input, State\n",
        "import pandas as pd\n",
        "import numpy as np\n",
        "import plotly.express as px\n",
        "import dash_mantine_components as dmc\n",
        "import ast\n",
        "import sys\n",
        "import nltk\n",
        "import pathlib\n",
        "import dash_core_components as dcc\n",
        "import dash_html_components as html\n",
        "import dash_bootstrap_components as dbc\n",
        "from nltk.tokenize import wordpunct_tokenize\n",
        "from bs4 import BeautifulSoup\n",
        "import collections\n",
        "import re\n",
        "from wordcloud import WordCloud\n",
        "import base64\n",
        "from PIL import Image\n",
        "import io\n",
        "from joblib import load\n",
        "from scipy import sparse\n",
        "from sklearn.cluster import KMeans\n",
        "import joblib\n",
        "from nltk.corpus import wordnet as wn\n",
        "from nltk.corpus import stopwords\n",
        "from nltk.stem import WordNetLemmatizer\n",
        "from nltk.sentiment import SentimentIntensityAnalyzer\n",
        "import ast\n",
        "from sklearn.metrics.pairwise import cosine_similarity\n",
        "from sklearn.cluster import KMeans\n",
        "from dash.dependencies import Input, Output, State\n",
        "from wordcloud import WordCloud\n",
        "import plotly.graph_objects as go\n",
        "import base64\n",
        "from PIL import Image\n",
        "import io\n",
        "import random\n",
        "from nltk.corpus import wordnet as wn\n",
        "from nltk.corpus import stopwords\n",
        "from nltk.stem import WordNetLemmatizer"
      ],
      "metadata": {
        "id": "2LE6Ig89PbV4",
        "colab": {
          "base_uri": "https://localhost:8080/",
          "height": 165
        },
        "outputId": "76ef0521-68d0-4604-f01b-3fb96a44ead8"
      },
      "execution_count": 11,
      "outputs": [
        {
          "output_type": "display_data",
          "data": {
            "text/plain": [
              "<IPython.core.display.HTML object>"
            ],
            "text/html": [
              "\n",
              "  <style>\n",
              "    pre {white-space: pre-wrap;\n",
              "    }\n",
              "  </style>\n",
              "  "
            ]
          },
          "metadata": {}
        },
        {
          "output_type": "display_data",
          "data": {
            "text/plain": [
              "<IPython.core.display.HTML object>"
            ],
            "text/html": [
              "\n",
              "  <style>\n",
              "    pre {\n",
              "        white-space: pre-wrap;\n",
              "    }\n",
              "  </style>\n",
              "  "
            ]
          },
          "metadata": {}
        },
        {
          "output_type": "display_data",
          "data": {
            "text/plain": [
              "<IPython.core.display.HTML object>"
            ],
            "text/html": [
              "\n",
              "  <style>\n",
              "    pre {white-space: pre-wrap;\n",
              "    }\n",
              "  </style>\n",
              "  "
            ]
          },
          "metadata": {}
        },
        {
          "output_type": "stream",
          "name": "stderr",
          "text": [
            "<ipython-input-11-bd66d2fb1dc5>:11: UserWarning: \n",
            "The dash_core_components package is deprecated. Please replace\n",
            "`import dash_core_components as dcc` with `from dash import dcc`\n",
            "  import dash_core_components as dcc\n",
            "<ipython-input-11-bd66d2fb1dc5>:12: UserWarning: \n",
            "The dash_html_components package is deprecated. Please replace\n",
            "`import dash_html_components as html` with `from dash import html`\n",
            "  import dash_html_components as html\n"
          ]
        }
      ]
    },
    {
      "cell_type": "code",
      "source": [
        "import nltk\n",
        "nltk.download('averaged_perceptron_tagger')\n",
        "nltk.download('stopwords')\n"
      ],
      "metadata": {
        "id": "D-YB6KUGHhxr",
        "colab": {
          "base_uri": "https://localhost:8080/",
          "height": 128
        },
        "outputId": "79c403f8-3911-48ed-de25-fd2b0b85d0b5"
      },
      "execution_count": 12,
      "outputs": [
        {
          "output_type": "display_data",
          "data": {
            "text/plain": [
              "<IPython.core.display.HTML object>"
            ],
            "text/html": [
              "\n",
              "  <style>\n",
              "    pre {white-space: pre-wrap;\n",
              "    }\n",
              "  </style>\n",
              "  "
            ]
          },
          "metadata": {}
        },
        {
          "output_type": "display_data",
          "data": {
            "text/plain": [
              "<IPython.core.display.HTML object>"
            ],
            "text/html": [
              "\n",
              "  <style>\n",
              "    pre {\n",
              "        white-space: pre-wrap;\n",
              "    }\n",
              "  </style>\n",
              "  "
            ]
          },
          "metadata": {}
        },
        {
          "output_type": "display_data",
          "data": {
            "text/plain": [
              "<IPython.core.display.HTML object>"
            ],
            "text/html": [
              "\n",
              "  <style>\n",
              "    pre {white-space: pre-wrap;\n",
              "    }\n",
              "  </style>\n",
              "  "
            ]
          },
          "metadata": {}
        },
        {
          "output_type": "stream",
          "name": "stderr",
          "text": [
            "[nltk_data] Downloading package averaged_perceptron_tagger to\n",
            "[nltk_data]     /root/nltk_data...\n",
            "[nltk_data]   Unzipping taggers/averaged_perceptron_tagger.zip.\n",
            "[nltk_data] Downloading package stopwords to /root/nltk_data...\n",
            "[nltk_data]   Package stopwords is already up-to-date!\n"
          ]
        },
        {
          "output_type": "execute_result",
          "data": {
            "text/plain": [
              "True"
            ]
          },
          "metadata": {},
          "execution_count": 12
        }
      ]
    },
    {
      "cell_type": "code",
      "source": [
        "try:\n",
        "  import contractions\n",
        "except ModuleNotFoundError:\n",
        "  %pip install -q contractions\n",
        "  import contractions"
      ],
      "metadata": {
        "id": "rO-6XFiyFyJW",
        "colab": {
          "base_uri": "https://localhost:8080/",
          "height": 17
        },
        "outputId": "dc95568e-5908-4bbe-92f6-8eacaff17c45"
      },
      "execution_count": 13,
      "outputs": [
        {
          "output_type": "display_data",
          "data": {
            "text/plain": [
              "<IPython.core.display.HTML object>"
            ],
            "text/html": [
              "\n",
              "  <style>\n",
              "    pre {white-space: pre-wrap;\n",
              "    }\n",
              "  </style>\n",
              "  "
            ]
          },
          "metadata": {}
        },
        {
          "output_type": "display_data",
          "data": {
            "text/plain": [
              "<IPython.core.display.HTML object>"
            ],
            "text/html": [
              "\n",
              "  <style>\n",
              "    pre {\n",
              "        white-space: pre-wrap;\n",
              "    }\n",
              "  </style>\n",
              "  "
            ]
          },
          "metadata": {}
        },
        {
          "output_type": "display_data",
          "data": {
            "text/plain": [
              "<IPython.core.display.HTML object>"
            ],
            "text/html": [
              "\n",
              "  <style>\n",
              "    pre {white-space: pre-wrap;\n",
              "    }\n",
              "  </style>\n",
              "  "
            ]
          },
          "metadata": {}
        }
      ]
    },
    {
      "cell_type": "code",
      "source": [
        "# To wrap long text lines\n",
        "from IPython.display import HTML, display\n",
        "\n",
        "def set_css():\n",
        "  display(HTML('''\n",
        "  <style>\n",
        "    pre {\n",
        "        white-space: pre-wrap;\n",
        "    }\n",
        "  </style>\n",
        "  '''))\n",
        "get_ipython().events.register('pre_run_cell', set_css)"
      ],
      "metadata": {
        "id": "bOFBvIDKPn22",
        "colab": {
          "base_uri": "https://localhost:8080/",
          "height": 17
        },
        "outputId": "71298240-b0fb-466d-d858-574862bbedc3"
      },
      "execution_count": 14,
      "outputs": [
        {
          "output_type": "display_data",
          "data": {
            "text/plain": [
              "<IPython.core.display.HTML object>"
            ],
            "text/html": [
              "\n",
              "  <style>\n",
              "    pre {white-space: pre-wrap;\n",
              "    }\n",
              "  </style>\n",
              "  "
            ]
          },
          "metadata": {}
        },
        {
          "output_type": "display_data",
          "data": {
            "text/plain": [
              "<IPython.core.display.HTML object>"
            ],
            "text/html": [
              "\n",
              "  <style>\n",
              "    pre {\n",
              "        white-space: pre-wrap;\n",
              "    }\n",
              "  </style>\n",
              "  "
            ]
          },
          "metadata": {}
        },
        {
          "output_type": "display_data",
          "data": {
            "text/plain": [
              "<IPython.core.display.HTML object>"
            ],
            "text/html": [
              "\n",
              "  <style>\n",
              "    pre {white-space: pre-wrap;\n",
              "    }\n",
              "  </style>\n",
              "  "
            ]
          },
          "metadata": {}
        }
      ]
    },
    {
      "cell_type": "code",
      "source": [
        "# If fa2 is available, it is imported\n",
        "try:\n",
        "    from fa2 import ForceAtlas2\n",
        "    is_fa2 = True\n",
        "\n",
        "except ModuleNotFoundError:\n",
        "    if sys.version_info < (3, 9):\n",
        "        %pip install fa2\n",
        "        from fa2 import ForceAtlas2\n",
        "        is_fa2 = True\n",
        "    else:\n",
        "        print(\"WARNING: At the time of writing this notebook, fa2 is not available for python 3.9 or higher\")\n",
        "        print(\"You can try 'pip install fa2', but it will likely fail\")\n",
        "        print(\"This is not a major issue. Some cells below that use Fa2 will not be executed, you can run the notebook anyway\")\n",
        "        is_fa2 = False"
      ],
      "metadata": {
        "id": "TzB86maDPr7K",
        "colab": {
          "base_uri": "https://localhost:8080/",
          "height": 72
        },
        "outputId": "11f7bc36-485d-41ed-c760-7f8c22b4b982"
      },
      "execution_count": 15,
      "outputs": [
        {
          "output_type": "display_data",
          "data": {
            "text/plain": [
              "<IPython.core.display.HTML object>"
            ],
            "text/html": [
              "\n",
              "  <style>\n",
              "    pre {white-space: pre-wrap;\n",
              "    }\n",
              "  </style>\n",
              "  "
            ]
          },
          "metadata": {}
        },
        {
          "output_type": "display_data",
          "data": {
            "text/plain": [
              "<IPython.core.display.HTML object>"
            ],
            "text/html": [
              "\n",
              "  <style>\n",
              "    pre {\n",
              "        white-space: pre-wrap;\n",
              "    }\n",
              "  </style>\n",
              "  "
            ]
          },
          "metadata": {}
        },
        {
          "output_type": "display_data",
          "data": {
            "text/plain": [
              "<IPython.core.display.HTML object>"
            ],
            "text/html": [
              "\n",
              "  <style>\n",
              "    pre {white-space: pre-wrap;\n",
              "    }\n",
              "  </style>\n",
              "  "
            ]
          },
          "metadata": {}
        },
        {
          "output_type": "display_data",
          "data": {
            "text/plain": [
              "<IPython.core.display.HTML object>"
            ],
            "text/html": [
              "\n",
              "  <style>\n",
              "    pre {\n",
              "        white-space: pre-wrap;\n",
              "    }\n",
              "  </style>\n",
              "  "
            ]
          },
          "metadata": {}
        },
        {
          "output_type": "stream",
          "name": "stdout",
          "text": [
            "WARNING: At the time of writing this notebook, fa2 is not available for python 3.9 or higher\n",
            "You can try 'pip install fa2', but it will likely fail\n",
            "This is not a major issue. Some cells below that use Fa2 will not be executed, you can run the notebook anyway\n"
          ]
        }
      ]
    },
    {
      "cell_type": "markdown",
      "metadata": {
        "id": "xyO8Xu628K4D"
      },
      "source": [
        "## Dataset"
      ]
    },
    {
      "cell_type": "code",
      "execution_count": 16,
      "metadata": {
        "id": "Xh5PixwjlUYW",
        "colab": {
          "base_uri": "https://localhost:8080/",
          "height": 974
        },
        "outputId": "f0ac7db8-80aa-445c-d983-9aaf69a1eac9"
      },
      "outputs": [
        {
          "output_type": "display_data",
          "data": {
            "text/plain": [
              "<IPython.core.display.HTML object>"
            ],
            "text/html": [
              "\n",
              "  <style>\n",
              "    pre {white-space: pre-wrap;\n",
              "    }\n",
              "  </style>\n",
              "  "
            ]
          },
          "metadata": {}
        },
        {
          "output_type": "display_data",
          "data": {
            "text/plain": [
              "<IPython.core.display.HTML object>"
            ],
            "text/html": [
              "\n",
              "  <style>\n",
              "    pre {\n",
              "        white-space: pre-wrap;\n",
              "    }\n",
              "  </style>\n",
              "  "
            ]
          },
          "metadata": {}
        },
        {
          "output_type": "display_data",
          "data": {
            "text/plain": [
              "<IPython.core.display.HTML object>"
            ],
            "text/html": [
              "\n",
              "  <style>\n",
              "    pre {white-space: pre-wrap;\n",
              "    }\n",
              "  </style>\n",
              "  "
            ]
          },
          "metadata": {}
        },
        {
          "output_type": "display_data",
          "data": {
            "text/plain": [
              "<IPython.core.display.HTML object>"
            ],
            "text/html": [
              "\n",
              "  <style>\n",
              "    pre {\n",
              "        white-space: pre-wrap;\n",
              "    }\n",
              "  </style>\n",
              "  "
            ]
          },
          "metadata": {}
        },
        {
          "output_type": "execute_result",
          "data": {
            "text/plain": [
              "   Unnamed: 0  index                            scaled_emotional_scores  \\\n",
              "0           0      0  {'Anger': 0.0, 'Anticipation': 0.0, 'Disgust':...   \n",
              "1           1      1  {'Anger': 0.0, 'Anticipation': 2.4929573953581...   \n",
              "2           2      2  {'Anger': 0.0, 'Anticipation': 0.0001495774437...   \n",
              "3           3      3  {'Anger': 3.8284839203675343e-05, 'Anticipatio...   \n",
              "4           4      4  {'Anger': 0.0, 'Anticipation': 0.0, 'Disgust':...   \n",
              "\n",
              "    max_emotion sentiment Recommended Emojis  \\\n",
              "0          Fear  positive              😈,😅,🤗   \n",
              "1       Disgust   neutral              🤤,💩,🤮   \n",
              "2  Anticipation  positive              😃,😆,😀   \n",
              "3           Joy  positive              😙,😅,😁   \n",
              "4    No Emotion  positive              🥰,🙂,😈   \n",
              "\n",
              "                                     topic_emojis  \\\n",
              "0                   ['🤚', '🧑\\u200d🤝\\u200d🧑', '🙋']   \n",
              "1                                 ['💇', '💆', '👌']   \n",
              "2                         ['👌', '🙋\\u200d♂️', '🙋']   \n",
              "3  ['🤽\\u200d♂️', '🏃\\u200d♂️', '👨\\u200d❤️\\u200d👨']   \n",
              "4                   ['🏤', '🏣', '🧑\\u200d🤝\\u200d🧑']   \n",
              "\n",
              "                                          Post Title  \\\n",
              "0                     AI is an overblown mess right?   \n",
              "1   bump this thread every time you take a huge shit   \n",
              "2                                 ITT new user names   \n",
              "3  Unpopular Videogame Opinions: A Midsummer's Ni...   \n",
              "4                  Check out this snake's giant shit   \n",
              "\n",
              "                                           Post Text  \\\n",
              "0  Its not going to change the world or even do ...   \n",
              "1  i think my toilet knew what was coming. and pr...   \n",
              "2  Post good as heck forum handles in case a lurk...   \n",
              "3  DKC 3: Dixie's Double Trouble was better than ...   \n",
              "4  .\\nOnly registered members can see post attach...   \n",
              "\n",
              "                                     clean_post_text  topic_number  \\\n",
              "0  go change world even useful right look like in...             9   \n",
              "1                        think toilet knew come clog             0   \n",
              "2  post good forum handle case lurker want finall...             4   \n",
              "3  dixie double trouble well super world super el...             0   \n",
              "4                register member see post attachment            14   \n",
              "\n",
              "   SVD_Component_1  SVD_Component_2  clusters formatted_emojis  \n",
              "0         0.236986        -0.085003         4          🤚🧑‍🤝‍🧑🙋  \n",
              "1         0.069041        -0.026614         8              💇💆👌  \n",
              "2         0.122810         0.023633         0           👌🙋‍♂️🙋  \n",
              "3         0.068148        -0.021758         8   🤽‍♂️🏃‍♂️👨‍❤️‍👨  \n",
              "4         0.159714         0.241092        13          🏤🏣🧑‍🤝‍🧑  "
            ],
            "text/html": [
              "\n",
              "  <div id=\"df-8658fb30-dd09-4c0c-b09e-2fb1d754e55b\" class=\"colab-df-container\">\n",
              "    <div>\n",
              "<style scoped>\n",
              "    .dataframe tbody tr th:only-of-type {\n",
              "        vertical-align: middle;\n",
              "    }\n",
              "\n",
              "    .dataframe tbody tr th {\n",
              "        vertical-align: top;\n",
              "    }\n",
              "\n",
              "    .dataframe thead th {\n",
              "        text-align: right;\n",
              "    }\n",
              "</style>\n",
              "<table border=\"1\" class=\"dataframe\">\n",
              "  <thead>\n",
              "    <tr style=\"text-align: right;\">\n",
              "      <th></th>\n",
              "      <th>Unnamed: 0</th>\n",
              "      <th>index</th>\n",
              "      <th>scaled_emotional_scores</th>\n",
              "      <th>max_emotion</th>\n",
              "      <th>sentiment</th>\n",
              "      <th>Recommended Emojis</th>\n",
              "      <th>topic_emojis</th>\n",
              "      <th>Post Title</th>\n",
              "      <th>Post Text</th>\n",
              "      <th>clean_post_text</th>\n",
              "      <th>topic_number</th>\n",
              "      <th>SVD_Component_1</th>\n",
              "      <th>SVD_Component_2</th>\n",
              "      <th>clusters</th>\n",
              "      <th>formatted_emojis</th>\n",
              "    </tr>\n",
              "  </thead>\n",
              "  <tbody>\n",
              "    <tr>\n",
              "      <th>0</th>\n",
              "      <td>0</td>\n",
              "      <td>0</td>\n",
              "      <td>{'Anger': 0.0, 'Anticipation': 0.0, 'Disgust':...</td>\n",
              "      <td>Fear</td>\n",
              "      <td>positive</td>\n",
              "      <td>😈,😅,🤗</td>\n",
              "      <td>['🤚', '🧑\\u200d🤝\\u200d🧑', '🙋']</td>\n",
              "      <td>AI is an overblown mess right?</td>\n",
              "      <td>Its not going to change the world or even do ...</td>\n",
              "      <td>go change world even useful right look like in...</td>\n",
              "      <td>9</td>\n",
              "      <td>0.236986</td>\n",
              "      <td>-0.085003</td>\n",
              "      <td>4</td>\n",
              "      <td>🤚🧑‍🤝‍🧑🙋</td>\n",
              "    </tr>\n",
              "    <tr>\n",
              "      <th>1</th>\n",
              "      <td>1</td>\n",
              "      <td>1</td>\n",
              "      <td>{'Anger': 0.0, 'Anticipation': 2.4929573953581...</td>\n",
              "      <td>Disgust</td>\n",
              "      <td>neutral</td>\n",
              "      <td>🤤,💩,🤮</td>\n",
              "      <td>['💇', '💆', '👌']</td>\n",
              "      <td>bump this thread every time you take a huge shit</td>\n",
              "      <td>i think my toilet knew what was coming. and pr...</td>\n",
              "      <td>think toilet knew come clog</td>\n",
              "      <td>0</td>\n",
              "      <td>0.069041</td>\n",
              "      <td>-0.026614</td>\n",
              "      <td>8</td>\n",
              "      <td>💇💆👌</td>\n",
              "    </tr>\n",
              "    <tr>\n",
              "      <th>2</th>\n",
              "      <td>2</td>\n",
              "      <td>2</td>\n",
              "      <td>{'Anger': 0.0, 'Anticipation': 0.0001495774437...</td>\n",
              "      <td>Anticipation</td>\n",
              "      <td>positive</td>\n",
              "      <td>😃,😆,😀</td>\n",
              "      <td>['👌', '🙋\\u200d♂️', '🙋']</td>\n",
              "      <td>ITT new user names</td>\n",
              "      <td>Post good as heck forum handles in case a lurk...</td>\n",
              "      <td>post good forum handle case lurker want finall...</td>\n",
              "      <td>4</td>\n",
              "      <td>0.122810</td>\n",
              "      <td>0.023633</td>\n",
              "      <td>0</td>\n",
              "      <td>👌🙋‍♂️🙋</td>\n",
              "    </tr>\n",
              "    <tr>\n",
              "      <th>3</th>\n",
              "      <td>3</td>\n",
              "      <td>3</td>\n",
              "      <td>{'Anger': 3.8284839203675343e-05, 'Anticipatio...</td>\n",
              "      <td>Joy</td>\n",
              "      <td>positive</td>\n",
              "      <td>😙,😅,😁</td>\n",
              "      <td>['🤽\\u200d♂️', '🏃\\u200d♂️', '👨\\u200d❤️\\u200d👨']</td>\n",
              "      <td>Unpopular Videogame Opinions: A Midsummer's Ni...</td>\n",
              "      <td>DKC 3: Dixie's Double Trouble was better than ...</td>\n",
              "      <td>dixie double trouble well super world super el...</td>\n",
              "      <td>0</td>\n",
              "      <td>0.068148</td>\n",
              "      <td>-0.021758</td>\n",
              "      <td>8</td>\n",
              "      <td>🤽‍♂️🏃‍♂️👨‍❤️‍👨</td>\n",
              "    </tr>\n",
              "    <tr>\n",
              "      <th>4</th>\n",
              "      <td>4</td>\n",
              "      <td>4</td>\n",
              "      <td>{'Anger': 0.0, 'Anticipation': 0.0, 'Disgust':...</td>\n",
              "      <td>No Emotion</td>\n",
              "      <td>positive</td>\n",
              "      <td>🥰,🙂,😈</td>\n",
              "      <td>['🏤', '🏣', '🧑\\u200d🤝\\u200d🧑']</td>\n",
              "      <td>Check out this snake's giant shit</td>\n",
              "      <td>.\\nOnly registered members can see post attach...</td>\n",
              "      <td>register member see post attachment</td>\n",
              "      <td>14</td>\n",
              "      <td>0.159714</td>\n",
              "      <td>0.241092</td>\n",
              "      <td>13</td>\n",
              "      <td>🏤🏣🧑‍🤝‍🧑</td>\n",
              "    </tr>\n",
              "  </tbody>\n",
              "</table>\n",
              "</div>\n",
              "    <div class=\"colab-df-buttons\">\n",
              "\n",
              "  <div class=\"colab-df-container\">\n",
              "    <button class=\"colab-df-convert\" onclick=\"convertToInteractive('df-8658fb30-dd09-4c0c-b09e-2fb1d754e55b')\"\n",
              "            title=\"Convert this dataframe to an interactive table.\"\n",
              "            style=\"display:none;\">\n",
              "\n",
              "  <svg xmlns=\"http://www.w3.org/2000/svg\" height=\"24px\" viewBox=\"0 -960 960 960\">\n",
              "    <path d=\"M120-120v-720h720v720H120Zm60-500h600v-160H180v160Zm220 220h160v-160H400v160Zm0 220h160v-160H400v160ZM180-400h160v-160H180v160Zm440 0h160v-160H620v160ZM180-180h160v-160H180v160Zm440 0h160v-160H620v160Z\"/>\n",
              "  </svg>\n",
              "    </button>\n",
              "\n",
              "  <style>\n",
              "    .colab-df-container {\n",
              "      display:flex;\n",
              "      gap: 12px;\n",
              "    }\n",
              "\n",
              "    .colab-df-convert {\n",
              "      background-color: #E8F0FE;\n",
              "      border: none;\n",
              "      border-radius: 50%;\n",
              "      cursor: pointer;\n",
              "      display: none;\n",
              "      fill: #1967D2;\n",
              "      height: 32px;\n",
              "      padding: 0 0 0 0;\n",
              "      width: 32px;\n",
              "    }\n",
              "\n",
              "    .colab-df-convert:hover {\n",
              "      background-color: #E2EBFA;\n",
              "      box-shadow: 0px 1px 2px rgba(60, 64, 67, 0.3), 0px 1px 3px 1px rgba(60, 64, 67, 0.15);\n",
              "      fill: #174EA6;\n",
              "    }\n",
              "\n",
              "    .colab-df-buttons div {\n",
              "      margin-bottom: 4px;\n",
              "    }\n",
              "\n",
              "    [theme=dark] .colab-df-convert {\n",
              "      background-color: #3B4455;\n",
              "      fill: #D2E3FC;\n",
              "    }\n",
              "\n",
              "    [theme=dark] .colab-df-convert:hover {\n",
              "      background-color: #434B5C;\n",
              "      box-shadow: 0px 1px 3px 1px rgba(0, 0, 0, 0.15);\n",
              "      filter: drop-shadow(0px 1px 2px rgba(0, 0, 0, 0.3));\n",
              "      fill: #FFFFFF;\n",
              "    }\n",
              "  </style>\n",
              "\n",
              "    <script>\n",
              "      const buttonEl =\n",
              "        document.querySelector('#df-8658fb30-dd09-4c0c-b09e-2fb1d754e55b button.colab-df-convert');\n",
              "      buttonEl.style.display =\n",
              "        google.colab.kernel.accessAllowed ? 'block' : 'none';\n",
              "\n",
              "      async function convertToInteractive(key) {\n",
              "        const element = document.querySelector('#df-8658fb30-dd09-4c0c-b09e-2fb1d754e55b');\n",
              "        const dataTable =\n",
              "          await google.colab.kernel.invokeFunction('convertToInteractive',\n",
              "                                                    [key], {});\n",
              "        if (!dataTable) return;\n",
              "\n",
              "        const docLinkHtml = 'Like what you see? Visit the ' +\n",
              "          '<a target=\"_blank\" href=https://colab.research.google.com/notebooks/data_table.ipynb>data table notebook</a>'\n",
              "          + ' to learn more about interactive tables.';\n",
              "        element.innerHTML = '';\n",
              "        dataTable['output_type'] = 'display_data';\n",
              "        await google.colab.output.renderOutput(dataTable, element);\n",
              "        const docLink = document.createElement('div');\n",
              "        docLink.innerHTML = docLinkHtml;\n",
              "        element.appendChild(docLink);\n",
              "      }\n",
              "    </script>\n",
              "  </div>\n",
              "\n",
              "\n",
              "<div id=\"df-392783de-754a-494e-a728-86949d4b00d1\">\n",
              "  <button class=\"colab-df-quickchart\" onclick=\"quickchart('df-392783de-754a-494e-a728-86949d4b00d1')\"\n",
              "            title=\"Suggest charts\"\n",
              "            style=\"display:none;\">\n",
              "\n",
              "<svg xmlns=\"http://www.w3.org/2000/svg\" height=\"24px\"viewBox=\"0 0 24 24\"\n",
              "     width=\"24px\">\n",
              "    <g>\n",
              "        <path d=\"M19 3H5c-1.1 0-2 .9-2 2v14c0 1.1.9 2 2 2h14c1.1 0 2-.9 2-2V5c0-1.1-.9-2-2-2zM9 17H7v-7h2v7zm4 0h-2V7h2v10zm4 0h-2v-4h2v4z\"/>\n",
              "    </g>\n",
              "</svg>\n",
              "  </button>\n",
              "\n",
              "<style>\n",
              "  .colab-df-quickchart {\n",
              "      --bg-color: #E8F0FE;\n",
              "      --fill-color: #1967D2;\n",
              "      --hover-bg-color: #E2EBFA;\n",
              "      --hover-fill-color: #174EA6;\n",
              "      --disabled-fill-color: #AAA;\n",
              "      --disabled-bg-color: #DDD;\n",
              "  }\n",
              "\n",
              "  [theme=dark] .colab-df-quickchart {\n",
              "      --bg-color: #3B4455;\n",
              "      --fill-color: #D2E3FC;\n",
              "      --hover-bg-color: #434B5C;\n",
              "      --hover-fill-color: #FFFFFF;\n",
              "      --disabled-bg-color: #3B4455;\n",
              "      --disabled-fill-color: #666;\n",
              "  }\n",
              "\n",
              "  .colab-df-quickchart {\n",
              "    background-color: var(--bg-color);\n",
              "    border: none;\n",
              "    border-radius: 50%;\n",
              "    cursor: pointer;\n",
              "    display: none;\n",
              "    fill: var(--fill-color);\n",
              "    height: 32px;\n",
              "    padding: 0;\n",
              "    width: 32px;\n",
              "  }\n",
              "\n",
              "  .colab-df-quickchart:hover {\n",
              "    background-color: var(--hover-bg-color);\n",
              "    box-shadow: 0 1px 2px rgba(60, 64, 67, 0.3), 0 1px 3px 1px rgba(60, 64, 67, 0.15);\n",
              "    fill: var(--button-hover-fill-color);\n",
              "  }\n",
              "\n",
              "  .colab-df-quickchart-complete:disabled,\n",
              "  .colab-df-quickchart-complete:disabled:hover {\n",
              "    background-color: var(--disabled-bg-color);\n",
              "    fill: var(--disabled-fill-color);\n",
              "    box-shadow: none;\n",
              "  }\n",
              "\n",
              "  .colab-df-spinner {\n",
              "    border: 2px solid var(--fill-color);\n",
              "    border-color: transparent;\n",
              "    border-bottom-color: var(--fill-color);\n",
              "    animation:\n",
              "      spin 1s steps(1) infinite;\n",
              "  }\n",
              "\n",
              "  @keyframes spin {\n",
              "    0% {\n",
              "      border-color: transparent;\n",
              "      border-bottom-color: var(--fill-color);\n",
              "      border-left-color: var(--fill-color);\n",
              "    }\n",
              "    20% {\n",
              "      border-color: transparent;\n",
              "      border-left-color: var(--fill-color);\n",
              "      border-top-color: var(--fill-color);\n",
              "    }\n",
              "    30% {\n",
              "      border-color: transparent;\n",
              "      border-left-color: var(--fill-color);\n",
              "      border-top-color: var(--fill-color);\n",
              "      border-right-color: var(--fill-color);\n",
              "    }\n",
              "    40% {\n",
              "      border-color: transparent;\n",
              "      border-right-color: var(--fill-color);\n",
              "      border-top-color: var(--fill-color);\n",
              "    }\n",
              "    60% {\n",
              "      border-color: transparent;\n",
              "      border-right-color: var(--fill-color);\n",
              "    }\n",
              "    80% {\n",
              "      border-color: transparent;\n",
              "      border-right-color: var(--fill-color);\n",
              "      border-bottom-color: var(--fill-color);\n",
              "    }\n",
              "    90% {\n",
              "      border-color: transparent;\n",
              "      border-bottom-color: var(--fill-color);\n",
              "    }\n",
              "  }\n",
              "</style>\n",
              "\n",
              "  <script>\n",
              "    async function quickchart(key) {\n",
              "      const quickchartButtonEl =\n",
              "        document.querySelector('#' + key + ' button');\n",
              "      quickchartButtonEl.disabled = true;  // To prevent multiple clicks.\n",
              "      quickchartButtonEl.classList.add('colab-df-spinner');\n",
              "      try {\n",
              "        const charts = await google.colab.kernel.invokeFunction(\n",
              "            'suggestCharts', [key], {});\n",
              "      } catch (error) {\n",
              "        console.error('Error during call to suggestCharts:', error);\n",
              "      }\n",
              "      quickchartButtonEl.classList.remove('colab-df-spinner');\n",
              "      quickchartButtonEl.classList.add('colab-df-quickchart-complete');\n",
              "    }\n",
              "    (() => {\n",
              "      let quickchartButtonEl =\n",
              "        document.querySelector('#df-392783de-754a-494e-a728-86949d4b00d1 button');\n",
              "      quickchartButtonEl.style.display =\n",
              "        google.colab.kernel.accessAllowed ? 'block' : 'none';\n",
              "    })();\n",
              "  </script>\n",
              "</div>\n",
              "    </div>\n",
              "  </div>\n"
            ],
            "application/vnd.google.colaboratory.intrinsic+json": {
              "type": "dataframe",
              "variable_name": "forum",
              "summary": "{\n  \"name\": \"forum\",\n  \"rows\": 15959,\n  \"fields\": [\n    {\n      \"column\": \"Unnamed: 0\",\n      \"properties\": {\n        \"dtype\": \"number\",\n        \"std\": 4607,\n        \"min\": 0,\n        \"max\": 15958,\n        \"num_unique_values\": 15959,\n        \"samples\": [\n          8998,\n          8013,\n          387\n        ],\n        \"semantic_type\": \"\",\n        \"description\": \"\"\n      }\n    },\n    {\n      \"column\": \"index\",\n      \"properties\": {\n        \"dtype\": \"number\",\n        \"std\": 4607,\n        \"min\": 0,\n        \"max\": 15958,\n        \"num_unique_values\": 15959,\n        \"samples\": [\n          8998,\n          8013,\n          387\n        ],\n        \"semantic_type\": \"\",\n        \"description\": \"\"\n      }\n    },\n    {\n      \"column\": \"scaled_emotional_scores\",\n      \"properties\": {\n        \"dtype\": \"string\",\n        \"num_unique_values\": 8939,\n        \"samples\": [\n          \"{'Anger': 0.00011485451761102603, 'Anticipation': 0.0, 'Disgust': 0.00010526315789473685, 'Fear': 0.00011767820893765997, 'Joy': 2.6311635004999212e-05, 'Sadness': 0.00012556898446083818, 'Surprise': 5.1802735184417735e-05, 'Trust': 0.0}\",\n          \"{'Anger': 0.00015313935681470137, 'Anticipation': 2.4929573953581132e-05, 'Disgust': 5.2631578947368424e-05, 'Fear': 8.825865670324497e-05, 'Joy': 2.6311635004999212e-05, 'Sadness': 3.1392246115209545e-05, 'Surprise': 0.00010360547036883547, 'Trust': 9.754194303550527e-05}\",\n          \"{'Anger': 7.656967840735069e-05, 'Anticipation': 2.4929573953581132e-05, 'Disgust': 5.2631578947368424e-05, 'Fear': 2.9419552234414993e-05, 'Joy': 0.00015786981002999527, 'Sadness': 9.417673834562863e-05, 'Surprise': 5.1802735184417735e-05, 'Trust': 3.901677721420211e-05}\"\n        ],\n        \"semantic_type\": \"\",\n        \"description\": \"\"\n      }\n    },\n    {\n      \"column\": \"max_emotion\",\n      \"properties\": {\n        \"dtype\": \"category\",\n        \"num_unique_values\": 9,\n        \"samples\": [\n          \"Surprise\",\n          \"Disgust\",\n          \"Trust\"\n        ],\n        \"semantic_type\": \"\",\n        \"description\": \"\"\n      }\n    },\n    {\n      \"column\": \"sentiment\",\n      \"properties\": {\n        \"dtype\": \"category\",\n        \"num_unique_values\": 3,\n        \"samples\": [\n          \"positive\",\n          \"neutral\",\n          \"negative\"\n        ],\n        \"semantic_type\": \"\",\n        \"description\": \"\"\n      }\n    },\n    {\n      \"column\": \"Recommended Emojis\",\n      \"properties\": {\n        \"dtype\": \"category\",\n        \"num_unique_values\": 620,\n        \"samples\": [\n          \"\\ud83e\\udd2d,\\ud83d\\ude04,\\ud83d\\ude19\",\n          \"\\ud83d\\ude01,\\ud83d\\ude04,\\ud83d\\ude14\",\n          \"\\ud83e\\udd2c,\\ud83e\\udd2a,\\ud83e\\udd10\"\n        ],\n        \"semantic_type\": \"\",\n        \"description\": \"\"\n      }\n    },\n    {\n      \"column\": \"topic_emojis\",\n      \"properties\": {\n        \"dtype\": \"category\",\n        \"num_unique_values\": 6025,\n        \"samples\": [\n          \"['\\ud83d\\udc68\\\\u200d\\ud83d\\udc67', '\\ud83d\\udc68\\\\u200d\\ud83c\\udfeb', '\\ud83d\\udc68\\\\u200d\\ud83d\\udc67\\\\u200d\\ud83d\\udc66']\",\n          \"['\\ud83c\\udfb5', '\\ud83c\\udfb6', '\\u270d']\",\n          \"['\\ud83d\\udc8c', '\\ud83d\\ude45\\\\u200d\\u2640\\ufe0f', '\\ud83d\\ude46\\\\u200d\\u2642\\ufe0f']\"\n        ],\n        \"semantic_type\": \"\",\n        \"description\": \"\"\n      }\n    },\n    {\n      \"column\": \"Post Title\",\n      \"properties\": {\n        \"dtype\": \"string\",\n        \"num_unique_values\": 15922,\n        \"samples\": [\n          \"Do you wear tighty whities?\",\n          \"The Doughnut thread: Post your favorite doughnuts in here\",\n          \"Annual Compliment Nooner Thread\"\n        ],\n        \"semantic_type\": \"\",\n        \"description\": \"\"\n      }\n    },\n    {\n      \"column\": \"Post Text\",\n      \"properties\": {\n        \"dtype\": \"string\",\n        \"num_unique_values\": 15959,\n        \"samples\": [\n          \"What do you goons think about the United Methodist Church? It will likely schism this year or next because it\\u0092s democratic and the majority keeps voting against GLBTQ rights. It\\u0092s also going to shrink a lot in the coming decades because the average congregation is mostly blue hairs and not a lot of young families.\\nAny opinions?\",\n          \"Sometimes I'll sit on the floor with my back to a wall and my legs straight out in front of me and just hold that position for a while. The stretching in my hamstrings is really satisfying.\",\n          \"I'm posting this thread early so that on Xmas eve you can refer to this thread and buy something from your local gas station for your loved one(s).\"\n        ],\n        \"semantic_type\": \"\",\n        \"description\": \"\"\n      }\n    },\n    {\n      \"column\": \"clean_post_text\",\n      \"properties\": {\n        \"dtype\": \"string\",\n        \"num_unique_values\": 15679,\n        \"samples\": [\n          \"pet island never clicked ever see click edit well till get pet guess\",\n          \"dead rip billy voice actor anime video game\",\n          \"go john tyler check retard wife look like retard look side side river bitch retard look one even want vice president probably kill harrison big ugly pus harrison also look like huge retard though anyway u president think look stupidest gayest straightest big pecker\"\n        ],\n        \"semantic_type\": \"\",\n        \"description\": \"\"\n      }\n    },\n    {\n      \"column\": \"topic_number\",\n      \"properties\": {\n        \"dtype\": \"number\",\n        \"std\": 4,\n        \"min\": 0,\n        \"max\": 14,\n        \"num_unique_values\": 15,\n        \"samples\": [\n          1,\n          8,\n          9\n        ],\n        \"semantic_type\": \"\",\n        \"description\": \"\"\n      }\n    },\n    {\n      \"column\": \"SVD_Component_1\",\n      \"properties\": {\n        \"dtype\": \"number\",\n        \"std\": 0.06252124259434694,\n        \"min\": -1.0736844324421833e-13,\n        \"max\": 0.4075747895510069,\n        \"num_unique_values\": 15653,\n        \"samples\": [\n          0.1022690803697116,\n          0.1406040052400188,\n          0.1484613766200935\n        ],\n        \"semantic_type\": \"\",\n        \"description\": \"\"\n      }\n    },\n    {\n      \"column\": \"SVD_Component_2\",\n      \"properties\": {\n        \"dtype\": \"number\",\n        \"std\": 0.091052487286999,\n        \"min\": -0.1363026794364884,\n        \"max\": 0.8983150403829286,\n        \"num_unique_values\": 15653,\n        \"samples\": [\n          0.030160388298138,\n          -0.0396240972683096,\n          -0.0454686509068404\n        ],\n        \"semantic_type\": \"\",\n        \"description\": \"\"\n      }\n    },\n    {\n      \"column\": \"clusters\",\n      \"properties\": {\n        \"dtype\": \"number\",\n        \"std\": 3,\n        \"min\": 0,\n        \"max\": 14,\n        \"num_unique_values\": 15,\n        \"samples\": [\n          10,\n          12,\n          4\n        ],\n        \"semantic_type\": \"\",\n        \"description\": \"\"\n      }\n    },\n    {\n      \"column\": \"formatted_emojis\",\n      \"properties\": {\n        \"dtype\": \"category\",\n        \"num_unique_values\": 6025,\n        \"samples\": [\n          \"\\ud83d\\udc68\\u200d\\ud83d\\udc67\\ud83d\\udc68\\u200d\\ud83c\\udfeb\\ud83d\\udc68\\u200d\\ud83d\\udc67\\u200d\\ud83d\\udc66\",\n          \"\\ud83c\\udfb5\\ud83c\\udfb6\\u270d\",\n          \"\\ud83d\\udc8c\\ud83d\\ude45\\u200d\\u2640\\ufe0f\\ud83d\\ude46\\u200d\\u2642\\ufe0f\"\n        ],\n        \"semantic_type\": \"\",\n        \"description\": \"\"\n      }\n    }\n  ]\n}"
            },
            "application/vnd.google.colaboratory.module+javascript": "\n      import \"https://ssl.gstatic.com/colaboratory/data_table/881c4a0d49046431/data_table.js\";\n\n      const table = window.createDataTable({\n        data: [[{\n            'v': 0,\n            'f': \"0\",\n        },\n{\n            'v': 0,\n            'f': \"0\",\n        },\n{\n            'v': 0,\n            'f': \"0\",\n        },\n\"{'Anger': 0.0, 'Anticipation': 0.0, 'Disgust': 0.0, 'Fear': 2.9419552234414993e-05, 'Joy': 2.6311635004999212e-05, 'Sadness': 0.0, 'Surprise': 0.0, 'Trust': 1.9508388607101055e-05}\",\n\"Fear\",\n\"positive\",\n\"\\ud83d\\ude08,\\ud83d\\ude05,\\ud83e\\udd17\",\n\"['\\ud83e\\udd1a', '\\ud83e\\uddd1\\\\u200d\\ud83e\\udd1d\\\\u200d\\ud83e\\uddd1', '\\ud83d\\ude4b']\",\n\"AI is an overblown mess right?\",\n\"It\\u0092s not going to change the world or even do anything useful, right looks like the Internet of things from 10 years ago?\",\n\"go change world even useful right look like internet thing year ago\",\n{\n            'v': 9,\n            'f': \"9\",\n        },\n{\n            'v': 0.2369858313385245,\n            'f': \"0.2369858313385245\",\n        },\n{\n            'v': -0.0850029397697634,\n            'f': \"-0.0850029397697634\",\n        },\n{\n            'v': 4,\n            'f': \"4\",\n        },\n\"\\ud83e\\udd1a\\ud83e\\uddd1\\u200d\\ud83e\\udd1d\\u200d\\ud83e\\uddd1\\ud83d\\ude4b\"],\n [{\n            'v': 1,\n            'f': \"1\",\n        },\n{\n            'v': 1,\n            'f': \"1\",\n        },\n{\n            'v': 1,\n            'f': \"1\",\n        },\n\"{'Anger': 0.0, 'Anticipation': 2.4929573953581132e-05, 'Disgust': 5.2631578947368424e-05, 'Fear': 0.0, 'Joy': 0.0, 'Sadness': 0.0, 'Surprise': 0.0, 'Trust': 0.0}\",\n\"Disgust\",\n\"neutral\",\n\"\\ud83e\\udd24,\\ud83d\\udca9,\\ud83e\\udd2e\",\n\"['\\ud83d\\udc87', '\\ud83d\\udc86', '\\ud83d\\udc4c']\",\n\"bump this thread every time you take a huge shit\",\n\"i think my toilet knew what was coming. and pre-emptively clogged itself\",\n\"think toilet knew come clog\",\n{\n            'v': 0,\n            'f': \"0\",\n        },\n{\n            'v': 0.0690406214898096,\n            'f': \"0.0690406214898096\",\n        },\n{\n            'v': -0.0266144512343319,\n            'f': \"-0.0266144512343319\",\n        },\n{\n            'v': 8,\n            'f': \"8\",\n        },\n\"\\ud83d\\udc87\\ud83d\\udc86\\ud83d\\udc4c\"],\n [{\n            'v': 2,\n            'f': \"2\",\n        },\n{\n            'v': 2,\n            'f': \"2\",\n        },\n{\n            'v': 2,\n            'f': \"2\",\n        },\n\"{'Anger': 0.0, 'Anticipation': 0.0001495774437214868, 'Disgust': 5.2631578947368424e-05, 'Fear': 8.825865670324497e-05, 'Joy': 7.893490501499764e-05, 'Sadness': 9.417673834562863e-05, 'Surprise': 0.00010360547036883547, 'Trust': 0.00011705033164260632}\",\n\"Anticipation\",\n\"positive\",\n\"\\ud83d\\ude03,\\ud83d\\ude06,\\ud83d\\ude00\",\n\"['\\ud83d\\udc4c', '\\ud83d\\ude4b\\\\u200d\\u2642\\ufe0f', '\\ud83d\\ude4b']\",\n\"ITT new user names\",\n\"Post good as heck forum handles in case a lurker wants to finally pay\\nand is too dumb to come up with an original name, or you want to change your name to something different.\\nGraffix Bong Jester\\nCongressman Rod Blum\\nall uppercase letters\\nThat Get In Frog\\nYES...HA HA HA...YES!\",\n\"post good forum handle case lurker want finally pay dumb come original name want change name different bong jester congressman rod uppercase letter get frog yes ha ha ha yes\",\n{\n            'v': 4,\n            'f': \"4\",\n        },\n{\n            'v': 0.1228100492121024,\n            'f': \"0.1228100492121024\",\n        },\n{\n            'v': 0.02363278634288,\n            'f': \"0.02363278634288\",\n        },\n{\n            'v': 0,\n            'f': \"0\",\n        },\n\"\\ud83d\\udc4c\\ud83d\\ude4b\\u200d\\u2642\\ufe0f\\ud83d\\ude4b\"],\n [{\n            'v': 3,\n            'f': \"3\",\n        },\n{\n            'v': 3,\n            'f': \"3\",\n        },\n{\n            'v': 3,\n            'f': \"3\",\n        },\n\"{'Anger': 3.8284839203675343e-05, 'Anticipation': 4.9859147907162265e-05, 'Disgust': 0.0, 'Fear': 2.9419552234414993e-05, 'Joy': 5.2623270009998424e-05, 'Sadness': 0.0, 'Surprise': 0.0, 'Trust': 1.9508388607101055e-05}\",\n\"Joy\",\n\"positive\",\n\"\\ud83d\\ude19,\\ud83d\\ude05,\\ud83d\\ude01\",\n\"['\\ud83e\\udd3d\\\\u200d\\u2642\\ufe0f', '\\ud83c\\udfc3\\\\u200d\\u2642\\ufe0f', '\\ud83d\\udc68\\\\u200d\\u2764\\ufe0f\\\\u200d\\ud83d\\udc68']\",\n\"Unpopular Videogame Opinions: A Midsummer's Night's Dreamcast\",\n\"DKC 3: Dixie's Double Trouble was better than DKC 1-2\\nSuper Mario World > Super Mario Bros 3\\nEliminator Boat Duel (NES) is an 8-bit masterpiece and if you ain't played it well gently caress you buddy\",\n\"dixie double trouble well super world super eliminator boat duel ne bit masterpiece played well gently caress buddy\",\n{\n            'v': 0,\n            'f': \"0\",\n        },\n{\n            'v': 0.0681480400265569,\n            'f': \"0.0681480400265569\",\n        },\n{\n            'v': -0.0217579232085842,\n            'f': \"-0.0217579232085842\",\n        },\n{\n            'v': 8,\n            'f': \"8\",\n        },\n\"\\ud83e\\udd3d\\u200d\\u2642\\ufe0f\\ud83c\\udfc3\\u200d\\u2642\\ufe0f\\ud83d\\udc68\\u200d\\u2764\\ufe0f\\u200d\\ud83d\\udc68\"],\n [{\n            'v': 4,\n            'f': \"4\",\n        },\n{\n            'v': 4,\n            'f': \"4\",\n        },\n{\n            'v': 4,\n            'f': \"4\",\n        },\n\"{'Anger': 0.0, 'Anticipation': 0.0, 'Disgust': 0.0, 'Fear': 0.0, 'Joy': 0.0, 'Sadness': 0.0, 'Surprise': 0.0, 'Trust': 0.0}\",\n\"No Emotion\",\n\"positive\",\n\"\\ud83e\\udd70,\\ud83d\\ude42,\\ud83d\\ude08\",\n\"['\\ud83c\\udfe4', '\\ud83c\\udfe3', '\\ud83e\\uddd1\\\\u200d\\ud83e\\udd1d\\\\u200d\\ud83e\\uddd1']\",\n\"Check out this snake's giant shit\",\n\".\\nOnly registered members can see post attachments!\",\n\"register member see post attachment\",\n{\n            'v': 14,\n            'f': \"14\",\n        },\n{\n            'v': 0.1597140694500539,\n            'f': \"0.1597140694500539\",\n        },\n{\n            'v': 0.2410922243326006,\n            'f': \"0.2410922243326006\",\n        },\n{\n            'v': 13,\n            'f': \"13\",\n        },\n\"\\ud83c\\udfe4\\ud83c\\udfe3\\ud83e\\uddd1\\u200d\\ud83e\\udd1d\\u200d\\ud83e\\uddd1\"]],\n        columns: [[\"number\", \"level_0\"], [\"number\", \"Unnamed: 0\"], [\"number\", \"index\"], [\"string\", \"scaled_emotional_scores\"], [\"string\", \"max_emotion\"], [\"string\", \"sentiment\"], [\"string\", \"Recommended Emojis\"], [\"string\", \"topic_emojis\"], [\"string\", \"Post Title\"], [\"string\", \"Post Text\"], [\"string\", \"clean_post_text\"], [\"number\", \"topic_number\"], [\"number\", \"SVD_Component_1\"], [\"number\", \"SVD_Component_2\"], [\"number\", \"clusters\"], [\"string\", \"formatted_emojis\"]],\n        columnOptions: [{\"width\": \"1px\", \"className\": \"index_column\"}],\n        rowsPerPage: 25,\n        helpUrl: \"https://colab.research.google.com/notebooks/data_table.ipynb\",\n        suppressOutputScrolling: true,\n        minimumWidth: undefined,\n      });\n\n      function appendQuickchartButton(parentElement) {\n        let quickchartButtonContainerElement = document.createElement('div');\n        quickchartButtonContainerElement.innerHTML = `\n<div id=\"df-865305d2-6b10-4ca8-bc92-4365ef7b9bf4\">\n  <button class=\"colab-df-quickchart\" onclick=\"quickchart('df-865305d2-6b10-4ca8-bc92-4365ef7b9bf4')\"\n            title=\"Suggest charts\"\n            style=\"display:none;\">\n    \n<svg xmlns=\"http://www.w3.org/2000/svg\" height=\"24px\"viewBox=\"0 0 24 24\"\n     width=\"24px\">\n    <g>\n        <path d=\"M19 3H5c-1.1 0-2 .9-2 2v14c0 1.1.9 2 2 2h14c1.1 0 2-.9 2-2V5c0-1.1-.9-2-2-2zM9 17H7v-7h2v7zm4 0h-2V7h2v10zm4 0h-2v-4h2v4z\"/>\n    </g>\n</svg>\n  </button>\n  \n<style>\n  .colab-df-quickchart {\n      --bg-color: #E8F0FE;\n      --fill-color: #1967D2;\n      --hover-bg-color: #E2EBFA;\n      --hover-fill-color: #174EA6;\n      --disabled-fill-color: #AAA;\n      --disabled-bg-color: #DDD;\n  }\n\n  [theme=dark] .colab-df-quickchart {\n      --bg-color: #3B4455;\n      --fill-color: #D2E3FC;\n      --hover-bg-color: #434B5C;\n      --hover-fill-color: #FFFFFF;\n      --disabled-bg-color: #3B4455;\n      --disabled-fill-color: #666;\n  }\n\n  .colab-df-quickchart {\n    background-color: var(--bg-color);\n    border: none;\n    border-radius: 50%;\n    cursor: pointer;\n    display: none;\n    fill: var(--fill-color);\n    height: 32px;\n    padding: 0;\n    width: 32px;\n  }\n\n  .colab-df-quickchart:hover {\n    background-color: var(--hover-bg-color);\n    box-shadow: 0 1px 2px rgba(60, 64, 67, 0.3), 0 1px 3px 1px rgba(60, 64, 67, 0.15);\n    fill: var(--button-hover-fill-color);\n  }\n\n  .colab-df-quickchart-complete:disabled,\n  .colab-df-quickchart-complete:disabled:hover {\n    background-color: var(--disabled-bg-color);\n    fill: var(--disabled-fill-color);\n    box-shadow: none;\n  }\n\n  .colab-df-spinner {\n    border: 2px solid var(--fill-color);\n    border-color: transparent;\n    border-bottom-color: var(--fill-color);\n    animation:\n      spin 1s steps(1) infinite;\n  }\n\n  @keyframes spin {\n    0% {\n      border-color: transparent;\n      border-bottom-color: var(--fill-color);\n      border-left-color: var(--fill-color);\n    }\n    20% {\n      border-color: transparent;\n      border-left-color: var(--fill-color);\n      border-top-color: var(--fill-color);\n    }\n    30% {\n      border-color: transparent;\n      border-left-color: var(--fill-color);\n      border-top-color: var(--fill-color);\n      border-right-color: var(--fill-color);\n    }\n    40% {\n      border-color: transparent;\n      border-right-color: var(--fill-color);\n      border-top-color: var(--fill-color);\n    }\n    60% {\n      border-color: transparent;\n      border-right-color: var(--fill-color);\n    }\n    80% {\n      border-color: transparent;\n      border-right-color: var(--fill-color);\n      border-bottom-color: var(--fill-color);\n    }\n    90% {\n      border-color: transparent;\n      border-bottom-color: var(--fill-color);\n    }\n  }\n</style>\n\n  <script>\n    async function quickchart(key) {\n      const quickchartButtonEl =\n        document.querySelector('#' + key + ' button');\n      quickchartButtonEl.disabled = true;  // To prevent multiple clicks.\n      quickchartButtonEl.classList.add('colab-df-spinner');\n      try {\n        const charts = await google.colab.kernel.invokeFunction(\n            'suggestCharts', [key], {});\n      } catch (error) {\n        console.error('Error during call to suggestCharts:', error);\n      }\n      quickchartButtonEl.classList.remove('colab-df-spinner');\n      quickchartButtonEl.classList.add('colab-df-quickchart-complete');\n    }\n    (() => {\n      let quickchartButtonEl =\n        document.querySelector('#df-865305d2-6b10-4ca8-bc92-4365ef7b9bf4 button');\n      quickchartButtonEl.style.display =\n        google.colab.kernel.accessAllowed ? 'block' : 'none';\n    })();\n  </script>\n</div>`;\n        parentElement.appendChild(quickchartButtonContainerElement);\n      }\n\n      appendQuickchartButton(table);\n    "
          },
          "metadata": {},
          "execution_count": 16
        }
      ],
      "source": [
        "forum = pd.read_csv('forum_with_coordinates.csv')\n",
        "\n",
        "corpus_size = len(forum)\n",
        "forum.head()"
      ]
    },
    {
      "cell_type": "code",
      "execution_count": 17,
      "metadata": {
        "id": "7IIM2gd8CgLC",
        "colab": {
          "base_uri": "https://localhost:8080/",
          "height": 17
        },
        "outputId": "b76096ce-01c6-441f-a9da-25ec36301598"
      },
      "outputs": [
        {
          "output_type": "display_data",
          "data": {
            "text/plain": [
              "<IPython.core.display.HTML object>"
            ],
            "text/html": [
              "\n",
              "  <style>\n",
              "    pre {white-space: pre-wrap;\n",
              "    }\n",
              "  </style>\n",
              "  "
            ]
          },
          "metadata": {}
        },
        {
          "output_type": "display_data",
          "data": {
            "text/plain": [
              "<IPython.core.display.HTML object>"
            ],
            "text/html": [
              "\n",
              "  <style>\n",
              "    pre {\n",
              "        white-space: pre-wrap;\n",
              "    }\n",
              "  </style>\n",
              "  "
            ]
          },
          "metadata": {}
        },
        {
          "output_type": "display_data",
          "data": {
            "text/plain": [
              "<IPython.core.display.HTML object>"
            ],
            "text/html": [
              "\n",
              "  <style>\n",
              "    pre {white-space: pre-wrap;\n",
              "    }\n",
              "  </style>\n",
              "  "
            ]
          },
          "metadata": {}
        },
        {
          "output_type": "display_data",
          "data": {
            "text/plain": [
              "<IPython.core.display.HTML object>"
            ],
            "text/html": [
              "\n",
              "  <style>\n",
              "    pre {\n",
              "        white-space: pre-wrap;\n",
              "    }\n",
              "  </style>\n",
              "  "
            ]
          },
          "metadata": {}
        }
      ],
      "source": [
        "topic_mapping = {\n",
        "    0: 'Crime',\n",
        "    1: 'Wholesome',\n",
        "    2: 'America Politics',\n",
        "    3: 'Body',\n",
        "    4: 'Family and Loss',\n",
        "    5: 'Movie',\n",
        "    6: 'Entertainment',\n",
        "    7: 'Time',\n",
        "    8: 'Memories',\n",
        "    9: 'Work and Money',\n",
        "    10: 'Life',\n",
        "    11: 'Social Media',\n",
        "    12: 'Forums',\n",
        "    13: 'Food',\n",
        "    14: 'Humanity'\n",
        "}"
      ]
    },
    {
      "cell_type": "code",
      "execution_count": 18,
      "metadata": {
        "id": "H9pXcxjlCl5G",
        "colab": {
          "base_uri": "https://localhost:8080/",
          "height": 17
        },
        "outputId": "0629e6c1-74b4-419e-f984-f61e2b2a4ebc"
      },
      "outputs": [
        {
          "output_type": "display_data",
          "data": {
            "text/plain": [
              "<IPython.core.display.HTML object>"
            ],
            "text/html": [
              "\n",
              "  <style>\n",
              "    pre {white-space: pre-wrap;\n",
              "    }\n",
              "  </style>\n",
              "  "
            ]
          },
          "metadata": {}
        },
        {
          "output_type": "display_data",
          "data": {
            "text/plain": [
              "<IPython.core.display.HTML object>"
            ],
            "text/html": [
              "\n",
              "  <style>\n",
              "    pre {\n",
              "        white-space: pre-wrap;\n",
              "    }\n",
              "  </style>\n",
              "  "
            ]
          },
          "metadata": {}
        },
        {
          "output_type": "display_data",
          "data": {
            "text/plain": [
              "<IPython.core.display.HTML object>"
            ],
            "text/html": [
              "\n",
              "  <style>\n",
              "    pre {white-space: pre-wrap;\n",
              "    }\n",
              "  </style>\n",
              "  "
            ]
          },
          "metadata": {}
        },
        {
          "output_type": "display_data",
          "data": {
            "text/plain": [
              "<IPython.core.display.HTML object>"
            ],
            "text/html": [
              "\n",
              "  <style>\n",
              "    pre {\n",
              "        white-space: pre-wrap;\n",
              "    }\n",
              "  </style>\n",
              "  "
            ]
          },
          "metadata": {}
        }
      ],
      "source": [
        "forum['topic_number'] = forum['topic_number'].replace(topic_mapping)\n"
      ]
    },
    {
      "cell_type": "code",
      "execution_count": 19,
      "metadata": {
        "id": "7Lfgdi5w5GSW",
        "colab": {
          "base_uri": "https://localhost:8080/",
          "height": 17
        },
        "outputId": "88ea4819-309c-47a9-b7e3-cb761a55797c"
      },
      "outputs": [
        {
          "output_type": "display_data",
          "data": {
            "text/plain": [
              "<IPython.core.display.HTML object>"
            ],
            "text/html": [
              "\n",
              "  <style>\n",
              "    pre {white-space: pre-wrap;\n",
              "    }\n",
              "  </style>\n",
              "  "
            ]
          },
          "metadata": {}
        },
        {
          "output_type": "display_data",
          "data": {
            "text/plain": [
              "<IPython.core.display.HTML object>"
            ],
            "text/html": [
              "\n",
              "  <style>\n",
              "    pre {\n",
              "        white-space: pre-wrap;\n",
              "    }\n",
              "  </style>\n",
              "  "
            ]
          },
          "metadata": {}
        },
        {
          "output_type": "display_data",
          "data": {
            "text/plain": [
              "<IPython.core.display.HTML object>"
            ],
            "text/html": [
              "\n",
              "  <style>\n",
              "    pre {white-space: pre-wrap;\n",
              "    }\n",
              "  </style>\n",
              "  "
            ]
          },
          "metadata": {}
        },
        {
          "output_type": "display_data",
          "data": {
            "text/plain": [
              "<IPython.core.display.HTML object>"
            ],
            "text/html": [
              "\n",
              "  <style>\n",
              "    pre {\n",
              "        white-space: pre-wrap;\n",
              "    }\n",
              "  </style>\n",
              "  "
            ]
          },
          "metadata": {}
        }
      ],
      "source": [
        "#Function to transform the 'topic_emojis' column to the correct format\n",
        "def transform_emojis(row):\n",
        "    emojis_str = \"\"\n",
        "    if isinstance(row['topic_emojis'], str):\n",
        "        # Convert the string representation of the list to an actual list\n",
        "        emojis_list = ast.literal_eval(row['topic_emojis'])\n",
        "        # Join the emojis into a string\n",
        "        emojis_str = ''.join(emojis_list)\n",
        "    return emojis_str\n",
        "\n",
        "#Apply the function to create a new column\n",
        "#forum['cleaned_topic_emojis'] = forum['topic_emojis'].apply(transform_emojis, axis=1)\n",
        "forum['cleaned_topic_emojis'] = forum.apply(transform_emojis, axis=1)"
      ]
    },
    {
      "cell_type": "code",
      "source": [
        "emojis = pd.read_csv('emojis_sentiment_new_scale.csv')\n",
        "emojis.head()"
      ],
      "metadata": {
        "id": "aLVZrNyf5fDe",
        "colab": {
          "base_uri": "https://localhost:8080/",
          "height": 230
        },
        "outputId": "89c702af-74a2-4db8-a9e9-59062fededf4"
      },
      "execution_count": 21,
      "outputs": [
        {
          "output_type": "display_data",
          "data": {
            "text/plain": [
              "<IPython.core.display.HTML object>"
            ],
            "text/html": [
              "\n",
              "  <style>\n",
              "    pre {white-space: pre-wrap;\n",
              "    }\n",
              "  </style>\n",
              "  "
            ]
          },
          "metadata": {}
        },
        {
          "output_type": "display_data",
          "data": {
            "text/plain": [
              "<IPython.core.display.HTML object>"
            ],
            "text/html": [
              "\n",
              "  <style>\n",
              "    pre {\n",
              "        white-space: pre-wrap;\n",
              "    }\n",
              "  </style>\n",
              "  "
            ]
          },
          "metadata": {}
        },
        {
          "output_type": "display_data",
          "data": {
            "text/plain": [
              "<IPython.core.display.HTML object>"
            ],
            "text/html": [
              "\n",
              "  <style>\n",
              "    pre {white-space: pre-wrap;\n",
              "    }\n",
              "  </style>\n",
              "  "
            ]
          },
          "metadata": {}
        },
        {
          "output_type": "display_data",
          "data": {
            "text/plain": [
              "<IPython.core.display.HTML object>"
            ],
            "text/html": [
              "\n",
              "  <style>\n",
              "    pre {\n",
              "        white-space: pre-wrap;\n",
              "    }\n",
              "  </style>\n",
              "  "
            ]
          },
          "metadata": {}
        },
        {
          "output_type": "execute_result",
          "data": {
            "text/plain": [
              "  emoji                             name      clean_post_text  \\\n",
              "0     😀                    grinning face            grin face   \n",
              "1     😃      grinning face with big eyes    grin face big eye   \n",
              "2     😄  grinning face with smiling eyes  grin face smile eye   \n",
              "3     😁   beaming face with smiling eyes  beam face smile eye   \n",
              "4     😆          grinning squinting face     grin squint face   \n",
              "\n",
              "                                    emotional_scores  \n",
              "0  {\"Anger\": 0.0, \"Anticipation\": 0.05, \"Disgust\"...  \n",
              "1  {\"Anger\": 0.0, \"Anticipation\": 0.05, \"Disgust\"...  \n",
              "2  {\"Anger\": 0.0, \"Anticipation\": 0.05, \"Disgust\"...  \n",
              "3  {\"Anger\": 0.0, \"Anticipation\": 0.05, \"Disgust\"...  \n",
              "4  {\"Anger\": 0.0, \"Anticipation\": 0.05, \"Disgust\"...  "
            ],
            "text/html": [
              "\n",
              "  <div id=\"df-9c8cf82e-b719-4407-8d41-b1ab67ffdff5\" class=\"colab-df-container\">\n",
              "    <div>\n",
              "<style scoped>\n",
              "    .dataframe tbody tr th:only-of-type {\n",
              "        vertical-align: middle;\n",
              "    }\n",
              "\n",
              "    .dataframe tbody tr th {\n",
              "        vertical-align: top;\n",
              "    }\n",
              "\n",
              "    .dataframe thead th {\n",
              "        text-align: right;\n",
              "    }\n",
              "</style>\n",
              "<table border=\"1\" class=\"dataframe\">\n",
              "  <thead>\n",
              "    <tr style=\"text-align: right;\">\n",
              "      <th></th>\n",
              "      <th>emoji</th>\n",
              "      <th>name</th>\n",
              "      <th>clean_post_text</th>\n",
              "      <th>emotional_scores</th>\n",
              "    </tr>\n",
              "  </thead>\n",
              "  <tbody>\n",
              "    <tr>\n",
              "      <th>0</th>\n",
              "      <td>😀</td>\n",
              "      <td>grinning face</td>\n",
              "      <td>grin face</td>\n",
              "      <td>{\"Anger\": 0.0, \"Anticipation\": 0.05, \"Disgust\"...</td>\n",
              "    </tr>\n",
              "    <tr>\n",
              "      <th>1</th>\n",
              "      <td>😃</td>\n",
              "      <td>grinning face with big eyes</td>\n",
              "      <td>grin face big eye</td>\n",
              "      <td>{\"Anger\": 0.0, \"Anticipation\": 0.05, \"Disgust\"...</td>\n",
              "    </tr>\n",
              "    <tr>\n",
              "      <th>2</th>\n",
              "      <td>😄</td>\n",
              "      <td>grinning face with smiling eyes</td>\n",
              "      <td>grin face smile eye</td>\n",
              "      <td>{\"Anger\": 0.0, \"Anticipation\": 0.05, \"Disgust\"...</td>\n",
              "    </tr>\n",
              "    <tr>\n",
              "      <th>3</th>\n",
              "      <td>😁</td>\n",
              "      <td>beaming face with smiling eyes</td>\n",
              "      <td>beam face smile eye</td>\n",
              "      <td>{\"Anger\": 0.0, \"Anticipation\": 0.05, \"Disgust\"...</td>\n",
              "    </tr>\n",
              "    <tr>\n",
              "      <th>4</th>\n",
              "      <td>😆</td>\n",
              "      <td>grinning squinting face</td>\n",
              "      <td>grin squint face</td>\n",
              "      <td>{\"Anger\": 0.0, \"Anticipation\": 0.05, \"Disgust\"...</td>\n",
              "    </tr>\n",
              "  </tbody>\n",
              "</table>\n",
              "</div>\n",
              "    <div class=\"colab-df-buttons\">\n",
              "\n",
              "  <div class=\"colab-df-container\">\n",
              "    <button class=\"colab-df-convert\" onclick=\"convertToInteractive('df-9c8cf82e-b719-4407-8d41-b1ab67ffdff5')\"\n",
              "            title=\"Convert this dataframe to an interactive table.\"\n",
              "            style=\"display:none;\">\n",
              "\n",
              "  <svg xmlns=\"http://www.w3.org/2000/svg\" height=\"24px\" viewBox=\"0 -960 960 960\">\n",
              "    <path d=\"M120-120v-720h720v720H120Zm60-500h600v-160H180v160Zm220 220h160v-160H400v160Zm0 220h160v-160H400v160ZM180-400h160v-160H180v160Zm440 0h160v-160H620v160ZM180-180h160v-160H180v160Zm440 0h160v-160H620v160Z\"/>\n",
              "  </svg>\n",
              "    </button>\n",
              "\n",
              "  <style>\n",
              "    .colab-df-container {\n",
              "      display:flex;\n",
              "      gap: 12px;\n",
              "    }\n",
              "\n",
              "    .colab-df-convert {\n",
              "      background-color: #E8F0FE;\n",
              "      border: none;\n",
              "      border-radius: 50%;\n",
              "      cursor: pointer;\n",
              "      display: none;\n",
              "      fill: #1967D2;\n",
              "      height: 32px;\n",
              "      padding: 0 0 0 0;\n",
              "      width: 32px;\n",
              "    }\n",
              "\n",
              "    .colab-df-convert:hover {\n",
              "      background-color: #E2EBFA;\n",
              "      box-shadow: 0px 1px 2px rgba(60, 64, 67, 0.3), 0px 1px 3px 1px rgba(60, 64, 67, 0.15);\n",
              "      fill: #174EA6;\n",
              "    }\n",
              "\n",
              "    .colab-df-buttons div {\n",
              "      margin-bottom: 4px;\n",
              "    }\n",
              "\n",
              "    [theme=dark] .colab-df-convert {\n",
              "      background-color: #3B4455;\n",
              "      fill: #D2E3FC;\n",
              "    }\n",
              "\n",
              "    [theme=dark] .colab-df-convert:hover {\n",
              "      background-color: #434B5C;\n",
              "      box-shadow: 0px 1px 3px 1px rgba(0, 0, 0, 0.15);\n",
              "      filter: drop-shadow(0px 1px 2px rgba(0, 0, 0, 0.3));\n",
              "      fill: #FFFFFF;\n",
              "    }\n",
              "  </style>\n",
              "\n",
              "    <script>\n",
              "      const buttonEl =\n",
              "        document.querySelector('#df-9c8cf82e-b719-4407-8d41-b1ab67ffdff5 button.colab-df-convert');\n",
              "      buttonEl.style.display =\n",
              "        google.colab.kernel.accessAllowed ? 'block' : 'none';\n",
              "\n",
              "      async function convertToInteractive(key) {\n",
              "        const element = document.querySelector('#df-9c8cf82e-b719-4407-8d41-b1ab67ffdff5');\n",
              "        const dataTable =\n",
              "          await google.colab.kernel.invokeFunction('convertToInteractive',\n",
              "                                                    [key], {});\n",
              "        if (!dataTable) return;\n",
              "\n",
              "        const docLinkHtml = 'Like what you see? Visit the ' +\n",
              "          '<a target=\"_blank\" href=https://colab.research.google.com/notebooks/data_table.ipynb>data table notebook</a>'\n",
              "          + ' to learn more about interactive tables.';\n",
              "        element.innerHTML = '';\n",
              "        dataTable['output_type'] = 'display_data';\n",
              "        await google.colab.output.renderOutput(dataTable, element);\n",
              "        const docLink = document.createElement('div');\n",
              "        docLink.innerHTML = docLinkHtml;\n",
              "        element.appendChild(docLink);\n",
              "      }\n",
              "    </script>\n",
              "  </div>\n",
              "\n",
              "\n",
              "<div id=\"df-11c913d1-9aea-4cbd-93de-352049da657f\">\n",
              "  <button class=\"colab-df-quickchart\" onclick=\"quickchart('df-11c913d1-9aea-4cbd-93de-352049da657f')\"\n",
              "            title=\"Suggest charts\"\n",
              "            style=\"display:none;\">\n",
              "\n",
              "<svg xmlns=\"http://www.w3.org/2000/svg\" height=\"24px\"viewBox=\"0 0 24 24\"\n",
              "     width=\"24px\">\n",
              "    <g>\n",
              "        <path d=\"M19 3H5c-1.1 0-2 .9-2 2v14c0 1.1.9 2 2 2h14c1.1 0 2-.9 2-2V5c0-1.1-.9-2-2-2zM9 17H7v-7h2v7zm4 0h-2V7h2v10zm4 0h-2v-4h2v4z\"/>\n",
              "    </g>\n",
              "</svg>\n",
              "  </button>\n",
              "\n",
              "<style>\n",
              "  .colab-df-quickchart {\n",
              "      --bg-color: #E8F0FE;\n",
              "      --fill-color: #1967D2;\n",
              "      --hover-bg-color: #E2EBFA;\n",
              "      --hover-fill-color: #174EA6;\n",
              "      --disabled-fill-color: #AAA;\n",
              "      --disabled-bg-color: #DDD;\n",
              "  }\n",
              "\n",
              "  [theme=dark] .colab-df-quickchart {\n",
              "      --bg-color: #3B4455;\n",
              "      --fill-color: #D2E3FC;\n",
              "      --hover-bg-color: #434B5C;\n",
              "      --hover-fill-color: #FFFFFF;\n",
              "      --disabled-bg-color: #3B4455;\n",
              "      --disabled-fill-color: #666;\n",
              "  }\n",
              "\n",
              "  .colab-df-quickchart {\n",
              "    background-color: var(--bg-color);\n",
              "    border: none;\n",
              "    border-radius: 50%;\n",
              "    cursor: pointer;\n",
              "    display: none;\n",
              "    fill: var(--fill-color);\n",
              "    height: 32px;\n",
              "    padding: 0;\n",
              "    width: 32px;\n",
              "  }\n",
              "\n",
              "  .colab-df-quickchart:hover {\n",
              "    background-color: var(--hover-bg-color);\n",
              "    box-shadow: 0 1px 2px rgba(60, 64, 67, 0.3), 0 1px 3px 1px rgba(60, 64, 67, 0.15);\n",
              "    fill: var(--button-hover-fill-color);\n",
              "  }\n",
              "\n",
              "  .colab-df-quickchart-complete:disabled,\n",
              "  .colab-df-quickchart-complete:disabled:hover {\n",
              "    background-color: var(--disabled-bg-color);\n",
              "    fill: var(--disabled-fill-color);\n",
              "    box-shadow: none;\n",
              "  }\n",
              "\n",
              "  .colab-df-spinner {\n",
              "    border: 2px solid var(--fill-color);\n",
              "    border-color: transparent;\n",
              "    border-bottom-color: var(--fill-color);\n",
              "    animation:\n",
              "      spin 1s steps(1) infinite;\n",
              "  }\n",
              "\n",
              "  @keyframes spin {\n",
              "    0% {\n",
              "      border-color: transparent;\n",
              "      border-bottom-color: var(--fill-color);\n",
              "      border-left-color: var(--fill-color);\n",
              "    }\n",
              "    20% {\n",
              "      border-color: transparent;\n",
              "      border-left-color: var(--fill-color);\n",
              "      border-top-color: var(--fill-color);\n",
              "    }\n",
              "    30% {\n",
              "      border-color: transparent;\n",
              "      border-left-color: var(--fill-color);\n",
              "      border-top-color: var(--fill-color);\n",
              "      border-right-color: var(--fill-color);\n",
              "    }\n",
              "    40% {\n",
              "      border-color: transparent;\n",
              "      border-right-color: var(--fill-color);\n",
              "      border-top-color: var(--fill-color);\n",
              "    }\n",
              "    60% {\n",
              "      border-color: transparent;\n",
              "      border-right-color: var(--fill-color);\n",
              "    }\n",
              "    80% {\n",
              "      border-color: transparent;\n",
              "      border-right-color: var(--fill-color);\n",
              "      border-bottom-color: var(--fill-color);\n",
              "    }\n",
              "    90% {\n",
              "      border-color: transparent;\n",
              "      border-bottom-color: var(--fill-color);\n",
              "    }\n",
              "  }\n",
              "</style>\n",
              "\n",
              "  <script>\n",
              "    async function quickchart(key) {\n",
              "      const quickchartButtonEl =\n",
              "        document.querySelector('#' + key + ' button');\n",
              "      quickchartButtonEl.disabled = true;  // To prevent multiple clicks.\n",
              "      quickchartButtonEl.classList.add('colab-df-spinner');\n",
              "      try {\n",
              "        const charts = await google.colab.kernel.invokeFunction(\n",
              "            'suggestCharts', [key], {});\n",
              "      } catch (error) {\n",
              "        console.error('Error during call to suggestCharts:', error);\n",
              "      }\n",
              "      quickchartButtonEl.classList.remove('colab-df-spinner');\n",
              "      quickchartButtonEl.classList.add('colab-df-quickchart-complete');\n",
              "    }\n",
              "    (() => {\n",
              "      let quickchartButtonEl =\n",
              "        document.querySelector('#df-11c913d1-9aea-4cbd-93de-352049da657f button');\n",
              "      quickchartButtonEl.style.display =\n",
              "        google.colab.kernel.accessAllowed ? 'block' : 'none';\n",
              "    })();\n",
              "  </script>\n",
              "</div>\n",
              "    </div>\n",
              "  </div>\n"
            ],
            "application/vnd.google.colaboratory.intrinsic+json": {
              "type": "dataframe",
              "variable_name": "emojis",
              "summary": "{\n  \"name\": \"emojis\",\n  \"rows\": 116,\n  \"fields\": [\n    {\n      \"column\": \"emoji\",\n      \"properties\": {\n        \"dtype\": \"string\",\n        \"num_unique_values\": 116,\n        \"samples\": [\n          \"\\ud83d\\ude31\",\n          \"\\ud83d\\ude06\",\n          \"\\ud83d\\ude2e\\u200d\\ud83d\\udca8\"\n        ],\n        \"semantic_type\": \"\",\n        \"description\": \"\"\n      }\n    },\n    {\n      \"column\": \"name\",\n      \"properties\": {\n        \"dtype\": \"string\",\n        \"num_unique_values\": 116,\n        \"samples\": [\n          \"face screaming in fear\",\n          \"grinning squinting face\",\n          \"\\u229b face exhaling\"\n        ],\n        \"semantic_type\": \"\",\n        \"description\": \"\"\n      }\n    },\n    {\n      \"column\": \"clean_post_text\",\n      \"properties\": {\n        \"dtype\": \"string\",\n        \"num_unique_values\": 116,\n        \"samples\": [\n          \"face scream fear\",\n          \"grin squint face\",\n          \"face exhale\"\n        ],\n        \"semantic_type\": \"\",\n        \"description\": \"\"\n      }\n    },\n    {\n      \"column\": \"emotional_scores\",\n      \"properties\": {\n        \"dtype\": \"category\",\n        \"num_unique_values\": 37,\n        \"samples\": [\n          \"{\\\"Anger\\\": 0.0, \\\"Anticipation\\\": 0.0, \\\"Disgust\\\": 0.0, \\\"Fear\\\": 0.0, \\\"Joy\\\": 0.0, \\\"Sadness\\\": 0.043478260869565216, \\\"Surprise\\\": 0.0, \\\"Trust\\\": 0.0}\",\n          \"{\\\"Anger\\\": 0.0, \\\"Anticipation\\\": 0.0, \\\"Disgust\\\": 0.0, \\\"Fear\\\": 0.0, \\\"Joy\\\": 0.0, \\\"Sadness\\\": 0.0, \\\"Surprise\\\": 0.023809523809523808, \\\"Trust\\\": 0.0}\",\n          \"{\\\"Anger\\\": 0.0, \\\"Anticipation\\\": 0.0, \\\"Disgust\\\": 0.0, \\\"Fear\\\": 0.0, \\\"Joy\\\": 0.03571428571428571, \\\"Sadness\\\": 0.0, \\\"Surprise\\\": 0.023809523809523808, \\\"Trust\\\": 0.0}\"\n        ],\n        \"semantic_type\": \"\",\n        \"description\": \"\"\n      }\n    }\n  ]\n}"
            },
            "application/vnd.google.colaboratory.module+javascript": "\n      import \"https://ssl.gstatic.com/colaboratory/data_table/881c4a0d49046431/data_table.js\";\n\n      const table = window.createDataTable({\n        data: [[{\n            'v': 0,\n            'f': \"0\",\n        },\n\"\\ud83d\\ude00\",\n\"grinning face\",\n\"grin face\",\n\"{\\\"Anger\\\": 0.0, \\\"Anticipation\\\": 0.05, \\\"Disgust\\\": 0.0, \\\"Fear\\\": 0.0, \\\"Joy\\\": 0.017857142857142856, \\\"Sadness\\\": 0.0, \\\"Surprise\\\": 0.023809523809523808, \\\"Trust\\\": 0.03225806451612903}\"],\n [{\n            'v': 1,\n            'f': \"1\",\n        },\n\"\\ud83d\\ude03\",\n\"grinning face with big eyes\",\n\"grin face big eye\",\n\"{\\\"Anger\\\": 0.0, \\\"Anticipation\\\": 0.05, \\\"Disgust\\\": 0.0, \\\"Fear\\\": 0.0, \\\"Joy\\\": 0.017857142857142856, \\\"Sadness\\\": 0.0, \\\"Surprise\\\": 0.023809523809523808, \\\"Trust\\\": 0.03225806451612903}\"],\n [{\n            'v': 2,\n            'f': \"2\",\n        },\n\"\\ud83d\\ude04\",\n\"grinning face with smiling eyes\",\n\"grin face smile eye\",\n\"{\\\"Anger\\\": 0.0, \\\"Anticipation\\\": 0.05, \\\"Disgust\\\": 0.0, \\\"Fear\\\": 0.0, \\\"Joy\\\": 0.05357142857142857, \\\"Sadness\\\": 0.0, \\\"Surprise\\\": 0.047619047619047616, \\\"Trust\\\": 0.06451612903225806}\"],\n [{\n            'v': 3,\n            'f': \"3\",\n        },\n\"\\ud83d\\ude01\",\n\"beaming face with smiling eyes\",\n\"beam face smile eye\",\n\"{\\\"Anger\\\": 0.0, \\\"Anticipation\\\": 0.05, \\\"Disgust\\\": 0.0, \\\"Fear\\\": 0.0, \\\"Joy\\\": 0.07142857142857142, \\\"Sadness\\\": 0.0, \\\"Surprise\\\": 0.023809523809523808, \\\"Trust\\\": 0.03225806451612903}\"],\n [{\n            'v': 4,\n            'f': \"4\",\n        },\n\"\\ud83d\\ude06\",\n\"grinning squinting face\",\n\"grin squint face\",\n\"{\\\"Anger\\\": 0.0, \\\"Anticipation\\\": 0.05, \\\"Disgust\\\": 0.0, \\\"Fear\\\": 0.0, \\\"Joy\\\": 0.017857142857142856, \\\"Sadness\\\": 0.0, \\\"Surprise\\\": 0.023809523809523808, \\\"Trust\\\": 0.03225806451612903}\"]],\n        columns: [[\"number\", \"index\"], [\"string\", \"emoji\"], [\"string\", \"name\"], [\"string\", \"clean_post_text\"], [\"string\", \"emotional_scores\"]],\n        columnOptions: [{\"width\": \"1px\", \"className\": \"index_column\"}],\n        rowsPerPage: 25,\n        helpUrl: \"https://colab.research.google.com/notebooks/data_table.ipynb\",\n        suppressOutputScrolling: true,\n        minimumWidth: undefined,\n      });\n\n      function appendQuickchartButton(parentElement) {\n        let quickchartButtonContainerElement = document.createElement('div');\n        quickchartButtonContainerElement.innerHTML = `\n<div id=\"df-1a12dc24-f63a-4ce1-9e21-4fc1b3f660f3\">\n  <button class=\"colab-df-quickchart\" onclick=\"quickchart('df-1a12dc24-f63a-4ce1-9e21-4fc1b3f660f3')\"\n            title=\"Suggest charts\"\n            style=\"display:none;\">\n    \n<svg xmlns=\"http://www.w3.org/2000/svg\" height=\"24px\"viewBox=\"0 0 24 24\"\n     width=\"24px\">\n    <g>\n        <path d=\"M19 3H5c-1.1 0-2 .9-2 2v14c0 1.1.9 2 2 2h14c1.1 0 2-.9 2-2V5c0-1.1-.9-2-2-2zM9 17H7v-7h2v7zm4 0h-2V7h2v10zm4 0h-2v-4h2v4z\"/>\n    </g>\n</svg>\n  </button>\n  \n<style>\n  .colab-df-quickchart {\n      --bg-color: #E8F0FE;\n      --fill-color: #1967D2;\n      --hover-bg-color: #E2EBFA;\n      --hover-fill-color: #174EA6;\n      --disabled-fill-color: #AAA;\n      --disabled-bg-color: #DDD;\n  }\n\n  [theme=dark] .colab-df-quickchart {\n      --bg-color: #3B4455;\n      --fill-color: #D2E3FC;\n      --hover-bg-color: #434B5C;\n      --hover-fill-color: #FFFFFF;\n      --disabled-bg-color: #3B4455;\n      --disabled-fill-color: #666;\n  }\n\n  .colab-df-quickchart {\n    background-color: var(--bg-color);\n    border: none;\n    border-radius: 50%;\n    cursor: pointer;\n    display: none;\n    fill: var(--fill-color);\n    height: 32px;\n    padding: 0;\n    width: 32px;\n  }\n\n  .colab-df-quickchart:hover {\n    background-color: var(--hover-bg-color);\n    box-shadow: 0 1px 2px rgba(60, 64, 67, 0.3), 0 1px 3px 1px rgba(60, 64, 67, 0.15);\n    fill: var(--button-hover-fill-color);\n  }\n\n  .colab-df-quickchart-complete:disabled,\n  .colab-df-quickchart-complete:disabled:hover {\n    background-color: var(--disabled-bg-color);\n    fill: var(--disabled-fill-color);\n    box-shadow: none;\n  }\n\n  .colab-df-spinner {\n    border: 2px solid var(--fill-color);\n    border-color: transparent;\n    border-bottom-color: var(--fill-color);\n    animation:\n      spin 1s steps(1) infinite;\n  }\n\n  @keyframes spin {\n    0% {\n      border-color: transparent;\n      border-bottom-color: var(--fill-color);\n      border-left-color: var(--fill-color);\n    }\n    20% {\n      border-color: transparent;\n      border-left-color: var(--fill-color);\n      border-top-color: var(--fill-color);\n    }\n    30% {\n      border-color: transparent;\n      border-left-color: var(--fill-color);\n      border-top-color: var(--fill-color);\n      border-right-color: var(--fill-color);\n    }\n    40% {\n      border-color: transparent;\n      border-right-color: var(--fill-color);\n      border-top-color: var(--fill-color);\n    }\n    60% {\n      border-color: transparent;\n      border-right-color: var(--fill-color);\n    }\n    80% {\n      border-color: transparent;\n      border-right-color: var(--fill-color);\n      border-bottom-color: var(--fill-color);\n    }\n    90% {\n      border-color: transparent;\n      border-bottom-color: var(--fill-color);\n    }\n  }\n</style>\n\n  <script>\n    async function quickchart(key) {\n      const quickchartButtonEl =\n        document.querySelector('#' + key + ' button');\n      quickchartButtonEl.disabled = true;  // To prevent multiple clicks.\n      quickchartButtonEl.classList.add('colab-df-spinner');\n      try {\n        const charts = await google.colab.kernel.invokeFunction(\n            'suggestCharts', [key], {});\n      } catch (error) {\n        console.error('Error during call to suggestCharts:', error);\n      }\n      quickchartButtonEl.classList.remove('colab-df-spinner');\n      quickchartButtonEl.classList.add('colab-df-quickchart-complete');\n    }\n    (() => {\n      let quickchartButtonEl =\n        document.querySelector('#df-1a12dc24-f63a-4ce1-9e21-4fc1b3f660f3 button');\n      quickchartButtonEl.style.display =\n        google.colab.kernel.accessAllowed ? 'block' : 'none';\n    })();\n  </script>\n</div>`;\n        parentElement.appendChild(quickchartButtonContainerElement);\n      }\n\n      appendQuickchartButton(table);\n    "
          },
          "metadata": {},
          "execution_count": 21
        }
      ]
    },
    {
      "cell_type": "code",
      "source": [
        "def format_emojis(emojis):\n",
        "    return \"\".join(emojis.split(\",\")) if isinstance(emojis, str) else \"\""
      ],
      "metadata": {
        "id": "e2r0G5JtMChd",
        "colab": {
          "base_uri": "https://localhost:8080/",
          "height": 17
        },
        "outputId": "7db0d679-e4df-4206-ab73-d04ca3e69f13"
      },
      "execution_count": 22,
      "outputs": [
        {
          "output_type": "display_data",
          "data": {
            "text/plain": [
              "<IPython.core.display.HTML object>"
            ],
            "text/html": [
              "\n",
              "  <style>\n",
              "    pre {white-space: pre-wrap;\n",
              "    }\n",
              "  </style>\n",
              "  "
            ]
          },
          "metadata": {}
        },
        {
          "output_type": "display_data",
          "data": {
            "text/plain": [
              "<IPython.core.display.HTML object>"
            ],
            "text/html": [
              "\n",
              "  <style>\n",
              "    pre {\n",
              "        white-space: pre-wrap;\n",
              "    }\n",
              "  </style>\n",
              "  "
            ]
          },
          "metadata": {}
        },
        {
          "output_type": "display_data",
          "data": {
            "text/plain": [
              "<IPython.core.display.HTML object>"
            ],
            "text/html": [
              "\n",
              "  <style>\n",
              "    pre {white-space: pre-wrap;\n",
              "    }\n",
              "  </style>\n",
              "  "
            ]
          },
          "metadata": {}
        },
        {
          "output_type": "display_data",
          "data": {
            "text/plain": [
              "<IPython.core.display.HTML object>"
            ],
            "text/html": [
              "\n",
              "  <style>\n",
              "    pre {\n",
              "        white-space: pre-wrap;\n",
              "    }\n",
              "  </style>\n",
              "  "
            ]
          },
          "metadata": {}
        }
      ]
    },
    {
      "cell_type": "code",
      "source": [
        "def format_emojis(emojis):\n",
        "    return \"\".join(emojis.split(\",\")) if isinstance(emojis, str) else \"\""
      ],
      "metadata": {
        "id": "UJNGcAatKaR-",
        "colab": {
          "base_uri": "https://localhost:8080/",
          "height": 17
        },
        "outputId": "b85a3d04-ae4b-4f6e-bce5-7fe5f2e437dd"
      },
      "execution_count": 23,
      "outputs": [
        {
          "output_type": "display_data",
          "data": {
            "text/plain": [
              "<IPython.core.display.HTML object>"
            ],
            "text/html": [
              "\n",
              "  <style>\n",
              "    pre {white-space: pre-wrap;\n",
              "    }\n",
              "  </style>\n",
              "  "
            ]
          },
          "metadata": {}
        },
        {
          "output_type": "display_data",
          "data": {
            "text/plain": [
              "<IPython.core.display.HTML object>"
            ],
            "text/html": [
              "\n",
              "  <style>\n",
              "    pre {\n",
              "        white-space: pre-wrap;\n",
              "    }\n",
              "  </style>\n",
              "  "
            ]
          },
          "metadata": {}
        },
        {
          "output_type": "display_data",
          "data": {
            "text/plain": [
              "<IPython.core.display.HTML object>"
            ],
            "text/html": [
              "\n",
              "  <style>\n",
              "    pre {white-space: pre-wrap;\n",
              "    }\n",
              "  </style>\n",
              "  "
            ]
          },
          "metadata": {}
        },
        {
          "output_type": "display_data",
          "data": {
            "text/plain": [
              "<IPython.core.display.HTML object>"
            ],
            "text/html": [
              "\n",
              "  <style>\n",
              "    pre {\n",
              "        white-space: pre-wrap;\n",
              "    }\n",
              "  </style>\n",
              "  "
            ]
          },
          "metadata": {}
        }
      ]
    },
    {
      "cell_type": "code",
      "source": [
        "import json\n",
        "\n",
        "# Check if 'emotional_scores' contains strings and convert them to dictionaries\n",
        "def safe_convert_to_dict(value):\n",
        "    if isinstance(value, str):\n",
        "        try:\n",
        "            return json.loads(value)  # Parse string to dictionary\n",
        "        except json.JSONDecodeError:\n",
        "            raise ValueError(\"Unable to convert to dictionary\")\n",
        "    elif isinstance(value, dict):\n",
        "        return value\n",
        "    else:\n",
        "        raise TypeError(\"Unexpected data type\")\n",
        "\n",
        "# Apply conversion to 'emotional_scores'\n",
        "emojis['emotional_scores'] = emojis['emotional_scores'].apply(safe_convert_to_dict)\n",
        "\n",
        "\n",
        "\n",
        "# Extract emotional scores into individual columns\n",
        "emotions = [\"Anger\", \"Anticipation\", \"Disgust\", \"Fear\", \"Joy\", \"Sadness\", \"Surprise\", \"Trust\"]\n",
        "\n",
        "# Create new columns for each emotion from the dictionary\n",
        "for emotion in emotions:\n",
        "    emojis[emotion] = emojis['emotional_scores'].apply(lambda x: x.get(emotion, 0))\n",
        "\n",
        "\n",
        "\n",
        "# Drop the original 'emotional_scores' column (optional)\n",
        "emojis.drop(columns=['emotional_scores'], inplace=True)\n",
        "\n",
        "# Check the updated DataFrame\n",
        "print(emojis)"
      ],
      "metadata": {
        "id": "iroBHdPy-uXR",
        "colab": {
          "base_uri": "https://localhost:8080/",
          "height": 515
        },
        "outputId": "f1457763-795e-42f9-d942-1b83b610febc"
      },
      "execution_count": 24,
      "outputs": [
        {
          "output_type": "display_data",
          "data": {
            "text/plain": [
              "<IPython.core.display.HTML object>"
            ],
            "text/html": [
              "\n",
              "  <style>\n",
              "    pre {white-space: pre-wrap;\n",
              "    }\n",
              "  </style>\n",
              "  "
            ]
          },
          "metadata": {}
        },
        {
          "output_type": "display_data",
          "data": {
            "text/plain": [
              "<IPython.core.display.HTML object>"
            ],
            "text/html": [
              "\n",
              "  <style>\n",
              "    pre {\n",
              "        white-space: pre-wrap;\n",
              "    }\n",
              "  </style>\n",
              "  "
            ]
          },
          "metadata": {}
        },
        {
          "output_type": "display_data",
          "data": {
            "text/plain": [
              "<IPython.core.display.HTML object>"
            ],
            "text/html": [
              "\n",
              "  <style>\n",
              "    pre {white-space: pre-wrap;\n",
              "    }\n",
              "  </style>\n",
              "  "
            ]
          },
          "metadata": {}
        },
        {
          "output_type": "display_data",
          "data": {
            "text/plain": [
              "<IPython.core.display.HTML object>"
            ],
            "text/html": [
              "\n",
              "  <style>\n",
              "    pre {\n",
              "        white-space: pre-wrap;\n",
              "    }\n",
              "  </style>\n",
              "  "
            ]
          },
          "metadata": {}
        },
        {
          "output_type": "stream",
          "name": "stdout",
          "text": [
            "    emoji                             name      clean_post_text  Anger  \\\n",
            "0       😀                    grinning face            grin face    0.0   \n",
            "1       😃      grinning face with big eyes    grin face big eye    0.0   \n",
            "2       😄  grinning face with smiling eyes  grin face smile eye    0.0   \n",
            "3       😁   beaming face with smiling eyes  beam face smile eye    0.0   \n",
            "4       😆          grinning squinting face     grin squint face    0.0   \n",
            "..    ...                              ...                  ...    ...   \n",
            "111     😼               cat with wry smile        cat wry smile    0.0   \n",
            "112     😽                      kissing cat             kiss cat    0.0   \n",
            "113     🙀                        weary cat            weary cat    0.0   \n",
            "114     😿                       crying cat              cry cat    0.0   \n",
            "115     😾                      pouting cat             pout cat    0.0   \n",
            "\n",
            "     Anticipation  Disgust  Fear       Joy   Sadness  Surprise     Trust  \n",
            "0            0.05      0.0   0.0  0.017857  0.000000  0.023810  0.032258  \n",
            "1            0.05      0.0   0.0  0.017857  0.000000  0.023810  0.032258  \n",
            "2            0.05      0.0   0.0  0.053571  0.000000  0.047619  0.064516  \n",
            "3            0.05      0.0   0.0  0.071429  0.000000  0.023810  0.032258  \n",
            "4            0.05      0.0   0.0  0.017857  0.000000  0.023810  0.032258  \n",
            "..            ...      ...   ...       ...       ...       ...       ...  \n",
            "111          0.00      0.0   0.0  0.035714  0.000000  0.023810  0.032258  \n",
            "112          0.05      0.0   0.0  0.017857  0.000000  0.023810  0.000000  \n",
            "113          0.00      0.0   0.0  0.000000  0.043478  0.000000  0.000000  \n",
            "114          0.00      0.0   0.0  0.000000  0.086957  0.000000  0.000000  \n",
            "115          0.00      0.0   0.0  0.000000  0.000000  0.000000  0.000000  \n",
            "\n",
            "[116 rows x 11 columns]\n"
          ]
        }
      ]
    },
    {
      "cell_type": "markdown",
      "source": [
        "## PIPELINE"
      ],
      "metadata": {
        "id": "UjGJ3bi1N_Mh"
      }
    },
    {
      "cell_type": "markdown",
      "source": [
        "This pipeline encompasses several key stages: **data preprocessing, sentiment analysis, and recommendation generation**.\n",
        "\n",
        "Initially, forum data is cleaned and preprocessed, including text normalization and removal of irrelevant content such as URLs and numeric digits.\n",
        "\n",
        "Next, sentiment analysis techniques, with both lexicon-based and machine learning approaches, are applied to obtain the emotional tone of each post.  \n",
        "\n",
        "Finally, emoji recommendation systems utilize sentiment analysis results to suggest expressive emojis related to the emotional content of each post, enhancing user engagement and communication."
      ],
      "metadata": {
        "id": "iwDWY2y2jwAJ"
      }
    },
    {
      "cell_type": "code",
      "source": [
        "nrc_lexicon_df = pd.read_csv('nrc_lexicon_english_df.csv')"
      ],
      "metadata": {
        "colab": {
          "base_uri": "https://localhost:8080/",
          "height": 0
        },
        "id": "xMfPRRLlN-gb",
        "outputId": "b151888a-435b-44b6-9a4c-f2940f095e77"
      },
      "execution_count": 25,
      "outputs": [
        {
          "output_type": "display_data",
          "data": {
            "text/plain": [
              "<IPython.core.display.HTML object>"
            ],
            "text/html": [
              "\n",
              "  <style>\n",
              "    pre {white-space: pre-wrap;\n",
              "    }\n",
              "  </style>\n",
              "  "
            ]
          },
          "metadata": {}
        },
        {
          "output_type": "display_data",
          "data": {
            "text/plain": [
              "<IPython.core.display.HTML object>"
            ],
            "text/html": [
              "\n",
              "  <style>\n",
              "    pre {\n",
              "        white-space: pre-wrap;\n",
              "    }\n",
              "  </style>\n",
              "  "
            ]
          },
          "metadata": {}
        },
        {
          "output_type": "display_data",
          "data": {
            "text/plain": [
              "<IPython.core.display.HTML object>"
            ],
            "text/html": [
              "\n",
              "  <style>\n",
              "    pre {white-space: pre-wrap;\n",
              "    }\n",
              "  </style>\n",
              "  "
            ]
          },
          "metadata": {}
        },
        {
          "output_type": "display_data",
          "data": {
            "text/plain": [
              "<IPython.core.display.HTML object>"
            ],
            "text/html": [
              "\n",
              "  <style>\n",
              "    pre {\n",
              "        white-space: pre-wrap;\n",
              "    }\n",
              "  </style>\n",
              "  "
            ]
          },
          "metadata": {}
        }
      ]
    },
    {
      "cell_type": "code",
      "source": [
        "# Assuming filename.csv is the CSV file you want to load\n",
        "emojis_faces = pd.read_csv('emojis_faces.csv')"
      ],
      "metadata": {
        "colab": {
          "base_uri": "https://localhost:8080/",
          "height": 0
        },
        "outputId": "a894dfca-d724-45a6-8870-d80114532b3c",
        "id": "eWShOr7ZHTPR"
      },
      "execution_count": 26,
      "outputs": [
        {
          "output_type": "display_data",
          "data": {
            "text/plain": [
              "<IPython.core.display.HTML object>"
            ],
            "text/html": [
              "\n",
              "  <style>\n",
              "    pre {white-space: pre-wrap;\n",
              "    }\n",
              "  </style>\n",
              "  "
            ]
          },
          "metadata": {}
        },
        {
          "output_type": "display_data",
          "data": {
            "text/plain": [
              "<IPython.core.display.HTML object>"
            ],
            "text/html": [
              "\n",
              "  <style>\n",
              "    pre {\n",
              "        white-space: pre-wrap;\n",
              "    }\n",
              "  </style>\n",
              "  "
            ]
          },
          "metadata": {}
        },
        {
          "output_type": "display_data",
          "data": {
            "text/plain": [
              "<IPython.core.display.HTML object>"
            ],
            "text/html": [
              "\n",
              "  <style>\n",
              "    pre {white-space: pre-wrap;\n",
              "    }\n",
              "  </style>\n",
              "  "
            ]
          },
          "metadata": {}
        },
        {
          "output_type": "display_data",
          "data": {
            "text/plain": [
              "<IPython.core.display.HTML object>"
            ],
            "text/html": [
              "\n",
              "  <style>\n",
              "    pre {\n",
              "        white-space: pre-wrap;\n",
              "    }\n",
              "  </style>\n",
              "  "
            ]
          },
          "metadata": {}
        }
      ]
    },
    {
      "cell_type": "code",
      "source": [
        "# Load TruncatedSVD object\n",
        "svd_loaded = load('svd_model.pkl')\n",
        "\n",
        "# Load the sparse matrix\n",
        "tfidf_sparse_loaded = sparse.load_npz('tfidf_matrix.npz')"
      ],
      "metadata": {
        "colab": {
          "base_uri": "https://localhost:8080/",
          "height": 0
        },
        "outputId": "0f65d423-e80a-465f-e59a-dd80e4302f6d",
        "id": "RJK2lXm7HTPR"
      },
      "execution_count": 27,
      "outputs": [
        {
          "output_type": "display_data",
          "data": {
            "text/plain": [
              "<IPython.core.display.HTML object>"
            ],
            "text/html": [
              "\n",
              "  <style>\n",
              "    pre {white-space: pre-wrap;\n",
              "    }\n",
              "  </style>\n",
              "  "
            ]
          },
          "metadata": {}
        },
        {
          "output_type": "display_data",
          "data": {
            "text/plain": [
              "<IPython.core.display.HTML object>"
            ],
            "text/html": [
              "\n",
              "  <style>\n",
              "    pre {\n",
              "        white-space: pre-wrap;\n",
              "    }\n",
              "  </style>\n",
              "  "
            ]
          },
          "metadata": {}
        },
        {
          "output_type": "display_data",
          "data": {
            "text/plain": [
              "<IPython.core.display.HTML object>"
            ],
            "text/html": [
              "\n",
              "  <style>\n",
              "    pre {white-space: pre-wrap;\n",
              "    }\n",
              "  </style>\n",
              "  "
            ]
          },
          "metadata": {}
        },
        {
          "output_type": "display_data",
          "data": {
            "text/plain": [
              "<IPython.core.display.HTML object>"
            ],
            "text/html": [
              "\n",
              "  <style>\n",
              "    pre {\n",
              "        white-space: pre-wrap;\n",
              "    }\n",
              "  </style>\n",
              "  "
            ]
          },
          "metadata": {}
        }
      ]
    },
    {
      "cell_type": "code",
      "source": [
        "# Load the KMeans model\n",
        "kmeans = joblib.load('best_kmeans_model_15.pkl')"
      ],
      "metadata": {
        "colab": {
          "base_uri": "https://localhost:8080/",
          "height": 0
        },
        "outputId": "dd326bbf-d09a-4ae3-9d85-4ca14a3b6775",
        "id": "7Br_uavwHTPR"
      },
      "execution_count": 28,
      "outputs": [
        {
          "output_type": "display_data",
          "data": {
            "text/plain": [
              "<IPython.core.display.HTML object>"
            ],
            "text/html": [
              "\n",
              "  <style>\n",
              "    pre {white-space: pre-wrap;\n",
              "    }\n",
              "  </style>\n",
              "  "
            ]
          },
          "metadata": {}
        },
        {
          "output_type": "display_data",
          "data": {
            "text/plain": [
              "<IPython.core.display.HTML object>"
            ],
            "text/html": [
              "\n",
              "  <style>\n",
              "    pre {\n",
              "        white-space: pre-wrap;\n",
              "    }\n",
              "  </style>\n",
              "  "
            ]
          },
          "metadata": {}
        },
        {
          "output_type": "display_data",
          "data": {
            "text/plain": [
              "<IPython.core.display.HTML object>"
            ],
            "text/html": [
              "\n",
              "  <style>\n",
              "    pre {white-space: pre-wrap;\n",
              "    }\n",
              "  </style>\n",
              "  "
            ]
          },
          "metadata": {}
        },
        {
          "output_type": "display_data",
          "data": {
            "text/plain": [
              "<IPython.core.display.HTML object>"
            ],
            "text/html": [
              "\n",
              "  <style>\n",
              "    pre {\n",
              "        white-space: pre-wrap;\n",
              "    }\n",
              "  </style>\n",
              "  "
            ]
          },
          "metadata": {}
        }
      ]
    },
    {
      "cell_type": "code",
      "source": [
        "input_file_path = \"total_emotions_for_new_text.json\"\n",
        "with open(input_file_path, \"r\") as json_file:\n",
        "    total_emotions_for_new_text = json.load(json_file)"
      ],
      "metadata": {
        "colab": {
          "base_uri": "https://localhost:8080/",
          "height": 0
        },
        "id": "Kbna22Y_Roys",
        "outputId": "fbcdbf8d-6794-43d1-ab14-589c8dbd62aa"
      },
      "execution_count": 29,
      "outputs": [
        {
          "output_type": "display_data",
          "data": {
            "text/plain": [
              "<IPython.core.display.HTML object>"
            ],
            "text/html": [
              "\n",
              "  <style>\n",
              "    pre {white-space: pre-wrap;\n",
              "    }\n",
              "  </style>\n",
              "  "
            ]
          },
          "metadata": {}
        },
        {
          "output_type": "display_data",
          "data": {
            "text/plain": [
              "<IPython.core.display.HTML object>"
            ],
            "text/html": [
              "\n",
              "  <style>\n",
              "    pre {\n",
              "        white-space: pre-wrap;\n",
              "    }\n",
              "  </style>\n",
              "  "
            ]
          },
          "metadata": {}
        },
        {
          "output_type": "display_data",
          "data": {
            "text/plain": [
              "<IPython.core.display.HTML object>"
            ],
            "text/html": [
              "\n",
              "  <style>\n",
              "    pre {white-space: pre-wrap;\n",
              "    }\n",
              "  </style>\n",
              "  "
            ]
          },
          "metadata": {}
        },
        {
          "output_type": "display_data",
          "data": {
            "text/plain": [
              "<IPython.core.display.HTML object>"
            ],
            "text/html": [
              "\n",
              "  <style>\n",
              "    pre {\n",
              "        white-space: pre-wrap;\n",
              "    }\n",
              "  </style>\n",
              "  "
            ]
          },
          "metadata": {}
        }
      ]
    },
    {
      "cell_type": "code",
      "source": [
        "# Define stopwords and lemmatizer\n",
        "stopwords_en = set(stopwords.words('english'))\n",
        "wnl = WordNetLemmatizer()\n",
        "\n",
        "def get_wordnet_pos(word):\n",
        "    \"\"\"Map POS tag to first character lemmatize() accepts\"\"\"\n",
        "    tag = nltk.pos_tag([word])[0][1][0].upper()\n",
        "    tag_dict = {\"J\": nltk.corpus.wordnet.ADJ,\n",
        "                \"N\": nltk.corpus.wordnet.NOUN,\n",
        "                \"V\": nltk.corpus.wordnet.VERB,\n",
        "                \"R\": nltk.corpus.wordnet.ADV}\n",
        "    return tag_dict.get(tag, nltk.corpus.wordnet.NOUN)\n",
        "\n",
        "\n",
        "def clean_text(text):\n",
        "    \"\"\"\n",
        "    Clean and preprocess text data.\n",
        "    \"\"\"\n",
        "\n",
        "    # Make use of BeautifulSoup with the parser \"lxml\" to get rid of all HTML tags\n",
        "    text = BeautifulSoup(text, 'lxml').get_text()\n",
        "\n",
        "    # Use regular expression to remove all URLs in text\n",
        "    text = re.sub(r'https?://\\S+|www\\.\\S+', '', text)\n",
        "\n",
        "    # Expand contractions\n",
        "    text = contractions.fix(text)\n",
        "\n",
        "    # Remove numbers\n",
        "    text = re.sub(r'\\d+', '', text)\n",
        "\n",
        "    # Tokenization\n",
        "    tokens = wordpunct_tokenize(text)\n",
        "\n",
        "    # Homogenization and Lemmatization\n",
        "    clean_tokens = [wnl.lemmatize(token.lower(), get_wordnet_pos(token)) for token in tokens if token.isalnum()]\n",
        "\n",
        "    # Remove stopwords\n",
        "    clean_tokens = [token for token in clean_tokens if token not in stopwords_en]\n",
        "\n",
        "    # Check if word exists in WordNet corpus\n",
        "    clean_tokens = [token for token in clean_tokens if wn.synsets(token)]\n",
        "\n",
        "    # Join tokens back into a string\n",
        "    clean_text = ' '.join(clean_tokens)\n",
        "\n",
        "    return clean_text"
      ],
      "metadata": {
        "colab": {
          "base_uri": "https://localhost:8080/",
          "height": 0
        },
        "id": "tvp2jJWpNUNT",
        "outputId": "c46e7d18-64cc-404b-a0b7-1f263c457d23"
      },
      "execution_count": 30,
      "outputs": [
        {
          "output_type": "display_data",
          "data": {
            "text/plain": [
              "<IPython.core.display.HTML object>"
            ],
            "text/html": [
              "\n",
              "  <style>\n",
              "    pre {white-space: pre-wrap;\n",
              "    }\n",
              "  </style>\n",
              "  "
            ]
          },
          "metadata": {}
        },
        {
          "output_type": "display_data",
          "data": {
            "text/plain": [
              "<IPython.core.display.HTML object>"
            ],
            "text/html": [
              "\n",
              "  <style>\n",
              "    pre {\n",
              "        white-space: pre-wrap;\n",
              "    }\n",
              "  </style>\n",
              "  "
            ]
          },
          "metadata": {}
        },
        {
          "output_type": "display_data",
          "data": {
            "text/plain": [
              "<IPython.core.display.HTML object>"
            ],
            "text/html": [
              "\n",
              "  <style>\n",
              "    pre {white-space: pre-wrap;\n",
              "    }\n",
              "  </style>\n",
              "  "
            ]
          },
          "metadata": {}
        },
        {
          "output_type": "display_data",
          "data": {
            "text/plain": [
              "<IPython.core.display.HTML object>"
            ],
            "text/html": [
              "\n",
              "  <style>\n",
              "    pre {\n",
              "        white-space: pre-wrap;\n",
              "    }\n",
              "  </style>\n",
              "  "
            ]
          },
          "metadata": {}
        }
      ]
    },
    {
      "cell_type": "code",
      "source": [
        "def calculate_emotional_scores(tokens):\n",
        "    # Initialize emotional scores\n",
        "    emotional_scores = {emotion: 0 for emotion in nrc_lexicon_df.columns[1:] if emotion != 'clean_name'}\n",
        "    tokens = wordpunct_tokenize(tokens)\n",
        "\n",
        "    # Calculate emotional scores\n",
        "    for token in tokens:\n",
        "        # Check if the token appears in the 'clean_name' column of the lexicon DataFrame\n",
        "        matched_words = nrc_lexicon_df[nrc_lexicon_df['clean_name'] == token]\n",
        "        if not matched_words.empty:\n",
        "            # Iterate over the matched words and accumulate emotional scores\n",
        "            for _ , word_row in matched_words.iterrows():\n",
        "                for emotion in emotional_scores:\n",
        "                    # Convert the emotion score to numeric type before adding it\n",
        "                    emotion_score = pd.to_numeric(word_row[emotion], errors='coerce')\n",
        "                    if not pd.isnull(emotion_score):\n",
        "                        emotional_scores[emotion] += emotion_score\n",
        "    return emotional_scores"
      ],
      "metadata": {
        "colab": {
          "base_uri": "https://localhost:8080/",
          "height": 0
        },
        "id": "GjhP88NDOD95",
        "outputId": "e4a00189-23f3-4111-942d-19b3445d62db"
      },
      "execution_count": 31,
      "outputs": [
        {
          "output_type": "display_data",
          "data": {
            "text/plain": [
              "<IPython.core.display.HTML object>"
            ],
            "text/html": [
              "\n",
              "  <style>\n",
              "    pre {white-space: pre-wrap;\n",
              "    }\n",
              "  </style>\n",
              "  "
            ]
          },
          "metadata": {}
        },
        {
          "output_type": "display_data",
          "data": {
            "text/plain": [
              "<IPython.core.display.HTML object>"
            ],
            "text/html": [
              "\n",
              "  <style>\n",
              "    pre {\n",
              "        white-space: pre-wrap;\n",
              "    }\n",
              "  </style>\n",
              "  "
            ]
          },
          "metadata": {}
        },
        {
          "output_type": "display_data",
          "data": {
            "text/plain": [
              "<IPython.core.display.HTML object>"
            ],
            "text/html": [
              "\n",
              "  <style>\n",
              "    pre {white-space: pre-wrap;\n",
              "    }\n",
              "  </style>\n",
              "  "
            ]
          },
          "metadata": {}
        },
        {
          "output_type": "display_data",
          "data": {
            "text/plain": [
              "<IPython.core.display.HTML object>"
            ],
            "text/html": [
              "\n",
              "  <style>\n",
              "    pre {\n",
              "        white-space: pre-wrap;\n",
              "    }\n",
              "  </style>\n",
              "  "
            ]
          },
          "metadata": {}
        }
      ]
    },
    {
      "cell_type": "code",
      "source": [
        "def scale_emotional_scores(emotional_scores, total_emotions=None):\n",
        "    # Calculate total emotions if not provided\n",
        "    if total_emotions is None:\n",
        "        total_emotions = {emotion: sum(scores[emotion] for scores in emotional_scores) for emotion in emotional_scores[0].keys()}\n",
        "\n",
        "    # Create a new list to store scaled emotional scores\n",
        "    scaled_emotional_scores = []\n",
        "\n",
        "    # Scale each emotion score\n",
        "    for scores in emotional_scores:\n",
        "        scaled_scores = {emotion: scores[emotion] / total_emotions[emotion] for emotion in scores}\n",
        "        scaled_emotional_scores.append(scaled_scores)\n",
        "\n",
        "    return total_emotions, scaled_emotional_scores"
      ],
      "metadata": {
        "colab": {
          "base_uri": "https://localhost:8080/",
          "height": 0
        },
        "id": "XVkyY6KuOMcH",
        "outputId": "eb20276d-63d6-4a2f-8cbf-b8685367afd3"
      },
      "execution_count": 32,
      "outputs": [
        {
          "output_type": "display_data",
          "data": {
            "text/plain": [
              "<IPython.core.display.HTML object>"
            ],
            "text/html": [
              "\n",
              "  <style>\n",
              "    pre {white-space: pre-wrap;\n",
              "    }\n",
              "  </style>\n",
              "  "
            ]
          },
          "metadata": {}
        },
        {
          "output_type": "display_data",
          "data": {
            "text/plain": [
              "<IPython.core.display.HTML object>"
            ],
            "text/html": [
              "\n",
              "  <style>\n",
              "    pre {\n",
              "        white-space: pre-wrap;\n",
              "    }\n",
              "  </style>\n",
              "  "
            ]
          },
          "metadata": {}
        },
        {
          "output_type": "display_data",
          "data": {
            "text/plain": [
              "<IPython.core.display.HTML object>"
            ],
            "text/html": [
              "\n",
              "  <style>\n",
              "    pre {white-space: pre-wrap;\n",
              "    }\n",
              "  </style>\n",
              "  "
            ]
          },
          "metadata": {}
        },
        {
          "output_type": "display_data",
          "data": {
            "text/plain": [
              "<IPython.core.display.HTML object>"
            ],
            "text/html": [
              "\n",
              "  <style>\n",
              "    pre {\n",
              "        white-space: pre-wrap;\n",
              "    }\n",
              "  </style>\n",
              "  "
            ]
          },
          "metadata": {}
        }
      ]
    },
    {
      "cell_type": "code",
      "source": [
        "nltk.download('vader_lexicon')\n",
        "\n",
        "# Initialize the sentiment analyzer\n",
        "sid = SentimentIntensityAnalyzer()\n",
        "\n",
        "# Function to perform sentiment analysis and return sentiment label\n",
        "def get_sentiment_label(text):\n",
        "    # Get the polarity scores from NLTK's SentimentIntensityAnalyzer\n",
        "    scores = sid.polarity_scores(text)\n",
        "\n",
        "    # Determine sentiment label based on compound score\n",
        "    if scores['compound'] > 0.05:\n",
        "        return 'positive'\n",
        "    elif scores['compound'] < -0.05:\n",
        "        return 'negative'\n",
        "    else:\n",
        "        return 'neutral'"
      ],
      "metadata": {
        "colab": {
          "base_uri": "https://localhost:8080/",
          "height": 0
        },
        "id": "mVk3YjQQOQmd",
        "outputId": "691fc162-415b-4213-d019-6045844d4e6b"
      },
      "execution_count": 33,
      "outputs": [
        {
          "output_type": "display_data",
          "data": {
            "text/plain": [
              "<IPython.core.display.HTML object>"
            ],
            "text/html": [
              "\n",
              "  <style>\n",
              "    pre {white-space: pre-wrap;\n",
              "    }\n",
              "  </style>\n",
              "  "
            ]
          },
          "metadata": {}
        },
        {
          "output_type": "display_data",
          "data": {
            "text/plain": [
              "<IPython.core.display.HTML object>"
            ],
            "text/html": [
              "\n",
              "  <style>\n",
              "    pre {\n",
              "        white-space: pre-wrap;\n",
              "    }\n",
              "  </style>\n",
              "  "
            ]
          },
          "metadata": {}
        },
        {
          "output_type": "display_data",
          "data": {
            "text/plain": [
              "<IPython.core.display.HTML object>"
            ],
            "text/html": [
              "\n",
              "  <style>\n",
              "    pre {white-space: pre-wrap;\n",
              "    }\n",
              "  </style>\n",
              "  "
            ]
          },
          "metadata": {}
        },
        {
          "output_type": "display_data",
          "data": {
            "text/plain": [
              "<IPython.core.display.HTML object>"
            ],
            "text/html": [
              "\n",
              "  <style>\n",
              "    pre {\n",
              "        white-space: pre-wrap;\n",
              "    }\n",
              "  </style>\n",
              "  "
            ]
          },
          "metadata": {}
        },
        {
          "output_type": "stream",
          "name": "stderr",
          "text": [
            "[nltk_data] Downloading package vader_lexicon to /root/nltk_data...\n"
          ]
        }
      ]
    },
    {
      "cell_type": "code",
      "source": [
        "# Load the KMeans model\n",
        "kmeans = joblib.load('best_kmeans_model_15.pkl')"
      ],
      "metadata": {
        "colab": {
          "base_uri": "https://localhost:8080/",
          "height": 0
        },
        "id": "Jj0xp7C3OUQQ",
        "outputId": "c4fc87bb-878d-456e-a867-5913a916bc59"
      },
      "execution_count": 34,
      "outputs": [
        {
          "output_type": "display_data",
          "data": {
            "text/plain": [
              "<IPython.core.display.HTML object>"
            ],
            "text/html": [
              "\n",
              "  <style>\n",
              "    pre {white-space: pre-wrap;\n",
              "    }\n",
              "  </style>\n",
              "  "
            ]
          },
          "metadata": {}
        },
        {
          "output_type": "display_data",
          "data": {
            "text/plain": [
              "<IPython.core.display.HTML object>"
            ],
            "text/html": [
              "\n",
              "  <style>\n",
              "    pre {\n",
              "        white-space: pre-wrap;\n",
              "    }\n",
              "  </style>\n",
              "  "
            ]
          },
          "metadata": {}
        },
        {
          "output_type": "display_data",
          "data": {
            "text/plain": [
              "<IPython.core.display.HTML object>"
            ],
            "text/html": [
              "\n",
              "  <style>\n",
              "    pre {white-space: pre-wrap;\n",
              "    }\n",
              "  </style>\n",
              "  "
            ]
          },
          "metadata": {}
        },
        {
          "output_type": "display_data",
          "data": {
            "text/plain": [
              "<IPython.core.display.HTML object>"
            ],
            "text/html": [
              "\n",
              "  <style>\n",
              "    pre {\n",
              "        white-space: pre-wrap;\n",
              "    }\n",
              "  </style>\n",
              "  "
            ]
          },
          "metadata": {}
        }
      ]
    },
    {
      "cell_type": "code",
      "source": [
        "# Function to get top N indices with highest values from an array\n",
        "def top_n_indices(arr, n):\n",
        "    return np.argpartition(arr, -n)[-n:]"
      ],
      "metadata": {
        "colab": {
          "base_uri": "https://localhost:8080/",
          "height": 0
        },
        "id": "9XUFOdCeOYq8",
        "outputId": "db4e9ae0-02e8-4718-f3cc-265da608f415"
      },
      "execution_count": 35,
      "outputs": [
        {
          "output_type": "display_data",
          "data": {
            "text/plain": [
              "<IPython.core.display.HTML object>"
            ],
            "text/html": [
              "\n",
              "  <style>\n",
              "    pre {white-space: pre-wrap;\n",
              "    }\n",
              "  </style>\n",
              "  "
            ]
          },
          "metadata": {}
        },
        {
          "output_type": "display_data",
          "data": {
            "text/plain": [
              "<IPython.core.display.HTML object>"
            ],
            "text/html": [
              "\n",
              "  <style>\n",
              "    pre {\n",
              "        white-space: pre-wrap;\n",
              "    }\n",
              "  </style>\n",
              "  "
            ]
          },
          "metadata": {}
        },
        {
          "output_type": "display_data",
          "data": {
            "text/plain": [
              "<IPython.core.display.HTML object>"
            ],
            "text/html": [
              "\n",
              "  <style>\n",
              "    pre {white-space: pre-wrap;\n",
              "    }\n",
              "  </style>\n",
              "  "
            ]
          },
          "metadata": {}
        },
        {
          "output_type": "display_data",
          "data": {
            "text/plain": [
              "<IPython.core.display.HTML object>"
            ],
            "text/html": [
              "\n",
              "  <style>\n",
              "    pre {\n",
              "        white-space: pre-wrap;\n",
              "    }\n",
              "  </style>\n",
              "  "
            ]
          },
          "metadata": {}
        }
      ]
    },
    {
      "cell_type": "code",
      "source": [
        "def recommending_emojis(text):\n",
        "\n",
        "    df_new = pd.DataFrame(columns=['clean_text', 'emotional_scores', 'scaled_emotions_NRC', 'emotions_vader', 'Emojis Sentiment Analysis'])\n",
        "\n",
        "    # 1. Cleaning the text\n",
        "    # NECESITAMOS CLEAN_TEXT\n",
        "    cleaned_text = clean_text(text)\n",
        "\n",
        "    # 2. Clustering (tfidf, svd, kmeans)\n",
        "    # NECESITAMOS svd_loaded y tfidf_sparse_loaded\n",
        "    tfidf_svd_loaded = svd_loaded.transform(tfidf_sparse_loaded)\n",
        "\n",
        "    predicted_labels = kmeans.predict(tfidf_svd_loaded)\n",
        "    cluster = predicted_labels[0]\n",
        "\n",
        "    # 3. Sentiment analysis\n",
        "    # 3.1. NRC Lexicon\n",
        "    # NECESITAMOS NRC Y calculate_emotional_scores\n",
        "    emotional_scores = calculate_emotional_scores(cleaned_text)\n",
        "    df_new = pd.DataFrame({'clean_text': [cleaned_text], 'emotional_scores': [emotional_scores]})\n",
        "\n",
        "    # 3.2. Scaling emotional scores\n",
        "    # NECESITAMOS scale_emotional_scores y total_emotions_for_new_text\n",
        "    total_emotions, scaled_emotional_scores = scale_emotional_scores(df_new['emotional_scores'], total_emotions=total_emotions_for_new_text)\n",
        "    df_new[\"scaled_emotions_NRC\"] = scaled_emotional_scores\n",
        "\n",
        "    # 3.3. Vader\n",
        "    # NECESITAMOS Vader y get_sentiment_label\n",
        "    emotions_vader = get_sentiment_label(cleaned_text)\n",
        "    df_new['emotions_vader'] = emotions_vader\n",
        "\n",
        "    # 3.4. Emojis for the emotions\n",
        "    # NECESITAMOS emojis_faces\n",
        "    df_new_scores = np.array([list(doc['scaled_emotions_NRC'].values()) for _, doc in df_new.iterrows() if doc['scaled_emotions_NRC']])\n",
        "    if df_new.iloc[0]['emotions_vader'] == 'positive':\n",
        "        selected_emojis = emojis_faces[emojis_faces['sentiment'] == 'positive']\n",
        "    elif df_new.iloc[0]['emotions_vader'] == 'negative':\n",
        "        selected_emojis = emojis_faces[emojis_faces['sentiment'] == 'negative']\n",
        "    elif df_new.iloc[0]['emotions_vader'] == 'neutral':\n",
        "        selected_emojis = emojis_faces[emojis_faces['sentiment'] == 'neutral']\n",
        "\n",
        "    emoji_scores = np.array([list(ast.literal_eval(emoji['scaled_emotional_scores']).values()) for _, emoji in selected_emojis.iterrows()])\n",
        "\n",
        "\n",
        "    similarities = cosine_similarity(df_new_scores, emoji_scores)\n",
        "    top_3_indices = np.apply_along_axis(lambda x: top_n_indices(x, 3), axis=1, arr=similarities)\n",
        "    top_3_emojis = [[selected_emojis.iloc[idx]['emoji'] for idx in indices] for indices in top_3_indices]\n",
        "    top_3_emojis_str = [','.join(emojis) for emojis in top_3_emojis]\n",
        "    df_new['Emojis Sentiment Analysis'] = top_3_emojis_str\n",
        "\n",
        "    return df_new\n"
      ],
      "metadata": {
        "colab": {
          "base_uri": "https://localhost:8080/",
          "height": 0
        },
        "id": "etQj0BDxOZ51",
        "outputId": "b1b308cf-72e3-468b-b9d4-26759ef6af98"
      },
      "execution_count": 36,
      "outputs": [
        {
          "output_type": "display_data",
          "data": {
            "text/plain": [
              "<IPython.core.display.HTML object>"
            ],
            "text/html": [
              "\n",
              "  <style>\n",
              "    pre {white-space: pre-wrap;\n",
              "    }\n",
              "  </style>\n",
              "  "
            ]
          },
          "metadata": {}
        },
        {
          "output_type": "display_data",
          "data": {
            "text/plain": [
              "<IPython.core.display.HTML object>"
            ],
            "text/html": [
              "\n",
              "  <style>\n",
              "    pre {\n",
              "        white-space: pre-wrap;\n",
              "    }\n",
              "  </style>\n",
              "  "
            ]
          },
          "metadata": {}
        },
        {
          "output_type": "display_data",
          "data": {
            "text/plain": [
              "<IPython.core.display.HTML object>"
            ],
            "text/html": [
              "\n",
              "  <style>\n",
              "    pre {white-space: pre-wrap;\n",
              "    }\n",
              "  </style>\n",
              "  "
            ]
          },
          "metadata": {}
        },
        {
          "output_type": "display_data",
          "data": {
            "text/plain": [
              "<IPython.core.display.HTML object>"
            ],
            "text/html": [
              "\n",
              "  <style>\n",
              "    pre {\n",
              "        white-space: pre-wrap;\n",
              "    }\n",
              "  </style>\n",
              "  "
            ]
          },
          "metadata": {}
        }
      ]
    },
    {
      "cell_type": "markdown",
      "source": [
        "## DashBoard"
      ],
      "metadata": {
        "id": "bqphq6JWIVik"
      }
    },
    {
      "cell_type": "code",
      "source": [
        "\n",
        "# Import necessary libraries\n",
        "import collections\n",
        "import io\n",
        "import base64\n",
        "import re\n",
        "import dash\n",
        "import dash_core_components as dcc\n",
        "import dash_html_components as html\n",
        "import dash_bootstrap_components as dbc\n",
        "from dash.dependencies import Input, Output, State\n",
        "import plotly.express as px\n",
        "import plotly.graph_objects as go\n",
        "from wordcloud import WordCloud\n",
        "from jupyter_dash import JupyterDash\n",
        "import dash_core_components as dcc\n",
        "import dash_html_components as html\n",
        "\n",
        "# Create Dash app\n",
        "app = JupyterDash(__name__, external_stylesheets=[dbc.themes.LUX])\n",
        "\n",
        "# Define layout\n",
        "app.layout = html.Div(style={'backgroundColor': '#f0f2f6', 'padding': '20px'}, children=[\n",
        "    html.H1([html.Span(\"😁\"), \"Forum Enhancement Dashboard\", html.Span(\"📱\")], style={'color': '#1e3799', 'fontWeight': 'bold', 'fontSize': '46px', 'textAlign': 'center', 'marginBottom': '30px'}),\n",
        "\n",
        "    dbc.Row([\n",
        "        dbc.Col([\n",
        "            html.Div([\n",
        "                html.H2(\"Interactive Clustering Dashboard\", style={'color': '#6a89cc', 'marginBottom': '20px'}),\n",
        "                html.Button(\"Reset Dashboard\", id=\"reset-button\", n_clicks=0, className='btn btn-danger mb-3'),\n",
        "                html.Div(id='hidden-div', style={'display': 'none'}),\n",
        "                html.Div([\n",
        "                    dcc.Graph(id='cluster-plot'),\n",
        "                    html.Div(id='details')\n",
        "                ]),\n",
        "                dcc.Dropdown(\n",
        "                    id='graph-selector',\n",
        "                    options=[\n",
        "                        {'label': 'Emotions Distribution', 'value': 'emotions'},\n",
        "                        {'label': 'Topics Distribution', 'value': 'topics'},\n",
        "                        {'label': 'Emoji Cloud', 'value': 'emoji'},\n",
        "                        {'label': 'Word Cloud', 'value': 'word'}\n",
        "                    ],\n",
        "                    value='emotions',\n",
        "                    clearable=False,\n",
        "                    className='form-select mb-3'\n",
        "                ),\n",
        "                html.Div(id='graph-container')\n",
        "            ]),\n",
        "        ], width=12)\n",
        "    ], style={'margin-bottom': '40px'}),\n",
        "\n",
        "    dbc.Row([\n",
        "        dbc.Col(html.H2(\"Post Selector by Sentiment Topic and Max Emotion 😀😞😐\", style={'color': '#6a89cc'}), width=12),\n",
        "    ], style={'margin-bottom': '20px'}),\n",
        "\n",
        "    dbc.Row([\n",
        "        dbc.Col([\n",
        "            html.Label(\"Select Sentiment\"),\n",
        "            dcc.Dropdown(\n",
        "                id='sentiment-dropdown',\n",
        "                options=[{'label': s, 'value': s} for s in forum['sentiment'].unique()],\n",
        "                value=None,\n",
        "                placeholder=\"Choose a sentiment\",\n",
        "                style={'width': '100%'},\n",
        "                className='form-select mb-3'\n",
        "            ),\n",
        "        ], width=4),\n",
        "\n",
        "        dbc.Col([\n",
        "            html.Label(\"Select Topic\"),\n",
        "            dcc.Dropdown(\n",
        "                id='topic-dropdown',\n",
        "                options=[{'label': str(t), 'value': t} for t in forum['topic_number'].unique()],\n",
        "                value=None,\n",
        "                placeholder=\"Choose a topic\",\n",
        "                style={'width': '100%'},\n",
        "                className='form-select mb-3'\n",
        "            ),\n",
        "        ], width=4),\n",
        "\n",
        "        dbc.Col([\n",
        "            html.Label(\"Select Max Emotion\"),\n",
        "            dcc.Dropdown(\n",
        "                id='max-emotion-dropdown',\n",
        "                options=[{'label': e, 'value': e} for e in forum['max_emotion'].unique()],\n",
        "                value=None,\n",
        "                placeholder=\"Choose a max emotion\",\n",
        "                style={'width': '100%'},\n",
        "                className='form-select mb-3'\n",
        "            ),\n",
        "        ], width=4),\n",
        "    ], style={'margin-bottom': '20px'}),\n",
        "\n",
        "    dbc.Row([\n",
        "        dbc.Col([\n",
        "            dbc.Card([\n",
        "                dbc.CardHeader(\"Selected Post\"),\n",
        "                dbc.CardBody(\n",
        "                    id='post-output',\n",
        "                    style={'font-size': '16px', 'background-color': 'white'}\n",
        "                )\n",
        "            ]),\n",
        "        ], width=12),\n",
        "    ], style={'margin-bottom': '20px'}),\n",
        "\n",
        "        dbc.Row([\n",
        "        dbc.Col(html.H2(\"Select an emotion and most frequent emojis for that emotion will appear 😆\", style={'color': '#6a89cc'}), width=12),\n",
        "    ], style={'margin-bottom': '20px'}),\n",
        "    dcc.Dropdown(\n",
        "        id=\"emotion-dropdown\",\n",
        "        options=[\n",
        "            {\"label\": emotion, \"value\": emotion} for emotion in emotions\n",
        "        ],\n",
        "        value=\"Joy\",\n",
        "        clearable=False,\n",
        "        style={\"width\": \"200px\"},\n",
        "        className='form-select mb-3'\n",
        "    ),\n",
        "    dcc.Slider(\n",
        "        id=\"num-emojis-slider\",\n",
        "        min=1,\n",
        "        max=10,\n",
        "        step=1,\n",
        "        value=5,\n",
        "        marks={i: str(i) for i in range(1, 11)},\n",
        "        tooltip={\"placement\": \"top\", \"always_visible\": True},\n",
        "        included=True,\n",
        "        className='mb-3'\n",
        "    ),\n",
        "    dcc.Graph(id=\"emoji-cloud\", className='mb-5'),\n",
        "\n",
        "    html.H2([html.Span(\"🤔\"), 'Recommendation of Emojis by Sentiment Analysis'], style={'textAlign': 'center', 'color': '#1e3799'}),\n",
        "    dcc.Textarea(\n",
        "        id='input-text',\n",
        "        placeholder='Enter your text here...',\n",
        "        style={'width': '50%', 'height': 100, 'margin': 'auto', 'display': 'block', 'marginTop': '20px', 'marginBottom': '20px'},\n",
        "        className='form-control'\n",
        "    ),\n",
        "    html.Button('Submit', id='submit-button', n_clicks=0, style={'backgroundColor': '#1e3799', 'color': 'white', 'marginTop': '10px', 'marginBottom': '20px'}, className='btn btn-primary'),\n",
        "    html.Div(id='output-emojis', style={'textAlign': 'center', 'marginTop': '20px'})\n",
        "])\n",
        "# Define callback to update cluster plot, details, and graph container based on clickData, graph selection, and reset button\n",
        "@app.callback(\n",
        "    [Output('cluster-plot', 'figure'),\n",
        "     Output('details', 'children'),\n",
        "     Output('graph-container', 'children'),\n",
        "     Output('hidden-div', 'children')],\n",
        "    [Input('cluster-plot', 'clickData'),\n",
        "     Input('graph-selector', 'value'),\n",
        "     Input('reset-button', 'n_clicks')],\n",
        "    [State('hidden-div', 'children')]\n",
        ")\n",
        "def update_dashboard(clickData, selected_graph, n_clicks, prev_n_clicks):\n",
        "    prev_n_clicks = prev_n_clicks or 0\n",
        "\n",
        "    # Check if reset button is clicked for the first time\n",
        "    if n_clicks > prev_n_clicks:\n",
        "        # Reset cluster plot\n",
        "        fig = px.scatter(forum, x='SVD_Component_1', y='SVD_Component_2', color='clusters', hover_data=['Post Title'])\n",
        "        fig.update_layout(title=\"Cluster Visualization\", clickmode='event+select')\n",
        "\n",
        "        # Reset details display\n",
        "        details_html = html.Div()\n",
        "\n",
        "        # Reset graph container\n",
        "        graph_container = html.Div()\n",
        "\n",
        "        return fig, details_html, graph_container, n_clicks\n",
        "\n",
        "    # Initialize default outputs\n",
        "    fig = px.scatter(forum, x='SVD_Component_1', y='SVD_Component_2', color='clusters', hover_data=['Post Title'])\n",
        "    fig.update_layout(title=\"Cluster Visualization\", clickmode='event+select')\n",
        "    details_html = html.Div()\n",
        "    graph_container = html.Div()\n",
        "\n",
        "    # Check if clickData is not None\n",
        "    if clickData:\n",
        "        clicked_point = clickData['points'][0]\n",
        "        clicked_x = clicked_point['x']\n",
        "        clicked_y = clicked_point['y']\n",
        "\n",
        "        # Find the row(s) with matching coordinates\n",
        "        clicked_rows = forum[\n",
        "            (forum['SVD_Component_1'] == clicked_x) &\n",
        "            (forum['SVD_Component_2'] == clicked_y)\n",
        "        ]\n",
        "\n",
        "        if not clicked_rows.empty:\n",
        "            # For simplicity, consider the first matching row\n",
        "            selected_entry = clicked_rows.iloc[0]\n",
        "\n",
        "            # Update scatter plot\n",
        "            filtered_df = forum[forum['clusters'] == selected_entry['clusters']]\n",
        "            fig = px.scatter(filtered_df, x='SVD_Component_1', y='SVD_Component_2', color='clusters', hover_data=['Post Title'])\n",
        "            fig.update_layout(title=\"Cluster Visualization\", clickmode='event+select')\n",
        "\n",
        "            # Create details display\n",
        "            details_html = html.Div([\n",
        "                html.H2('Selected Entry Details'),\n",
        "                html.P(f\"Post Title: {selected_entry['Post Title']}\"),\n",
        "                html.P(f\"Post Text: {selected_entry['Post Text']}\"),\n",
        "                html.P(f\"Cluster: {selected_entry['clusters']}\"),\n",
        "                html.P(f\"Recommended Emojis: {selected_entry['Recommended Emojis']}\"),\n",
        "                html.P(f\"Formatted Emojis: {selected_entry['formatted_emojis']}\"),\n",
        "            ])\n",
        "\n",
        "            # Update graph container based on the selected graph\n",
        "            if selected_graph == 'emotions':\n",
        "                fig_graph = px.histogram(filtered_df, x='max_emotion', title='Emotions Distribution')\n",
        "                graph_container = dcc.Graph(figure=fig_graph)\n",
        "\n",
        "            elif selected_graph == 'topics':\n",
        "                fig_graph = px.histogram(filtered_df, x='topic_number', title='Topics Distribution')\n",
        "                graph_container = dcc.Graph(figure=fig_graph)\n",
        "\n",
        "            elif selected_graph == 'emoji':\n",
        "                # Extract emojis and calculate frequencies for the selected cluster\n",
        "                cluster_emojis = []\n",
        "                for emoji_str in filtered_df['Recommended Emojis']:\n",
        "                    cluster_emojis.extend(re.findall(r'[^\\w\\s,]', emoji_str))  # Extract emojis using regex\n",
        "                cluster_emoji_counter = collections.Counter(cluster_emojis)\n",
        "                common_cluster_emojis = cluster_emoji_counter.most_common()\n",
        "\n",
        "                # Display common emojis for the selected cluster as individual elements\n",
        "                max_cluster_freq = common_cluster_emojis[0][1] if common_cluster_emojis else 1\n",
        "                emoji_tags = []\n",
        "                for emoji, freq in common_cluster_emojis:\n",
        "                    size = 20 + 30 * (freq / max_cluster_freq)\n",
        "                    emoji_tags.append(html.Span(emoji, style={'font-size': f'{size}px', 'padding': '5px'}))\n",
        "\n",
        "                graph_container = html.Div(emoji_tags)\n",
        "\n",
        "            elif selected_graph == 'word':\n",
        "                # Generate word cloud for the selected cluster\n",
        "                cluster_text = ' '.join(filtered_df['clean_post_text'])  # Combine text of all entries in the cluster\n",
        "                wordcloud = WordCloud(width=800, height=400).generate(cluster_text)\n",
        "\n",
        "                # Convert word cloud image to base64 format for display in Dash\n",
        "                img_data = wordcloud.to_image()\n",
        "                img_bytes = io.BytesIO()\n",
        "                img_data.save(img_bytes, format='PNG')\n",
        "                img_base64 = base64.b64encode(img_bytes.getvalue()).decode()\n",
        "\n",
        "                # Display word cloud\n",
        "                word_cloud_html = html.Div([\n",
        "                    html.H2('Word Cloud'),\n",
        "                    html.Img(src='data:image/png;base64,{}'.format(img_base64))\n",
        "                ])\n",
        "                graph_container = word_cloud_html\n",
        "\n",
        "    # If no cluster is clicked, display graphs based on the entire dataset\n",
        "    else:\n",
        "        if selected_graph == 'emotions':\n",
        "            fig_graph = px.histogram(forum, x='max_emotion', title='Emotions Distribution')\n",
        "            graph_container = dcc.Graph(figure=fig_graph)\n",
        "\n",
        "        elif selected_graph == 'topics':\n",
        "            fig_graph = px.histogram(forum, x='topic_number', title='Topics Distribution')\n",
        "            graph_container = dcc.Graph(figure=fig_graph)\n",
        "\n",
        "        elif selected_graph == 'emoji':\n",
        "            # Extract emojis and calculate frequencies for the entire dataset\n",
        "            emojis = []\n",
        "            for emoji_str in forum['Recommended Emojis']:\n",
        "                emojis.extend(re.findall(r'[^\\w\\s,]', emoji_str))  # Extract emojis using regex\n",
        "            emoji_counter = collections.Counter(emojis)\n",
        "            common_emojis = emoji_counter.most_common()\n",
        "\n",
        "            # Display common emojis for the entire dataset as individual elements\n",
        "            max_freq = common_emojis[0][1] if common_emojis else 1\n",
        "            emoji_tags = []\n",
        "            for emoji, freq in common_emojis:\n",
        "                size = 20 + 30 * (freq / max_freq)\n",
        "                emoji_tags.append(html.Span(emoji, style={'font-size': f'{size}px', 'padding': '5px'}))\n",
        "\n",
        "            graph_container = html.Div(emoji_tags)\n",
        "\n",
        "        elif selected_graph == 'word':\n",
        "            # Generate word cloud for the entire dataset\n",
        "            all_text = ' '.join(forum['clean_post_text'])  # Combine text of all entries\n",
        "            wordcloud = WordCloud(width=800, height=400).generate(all_text)\n",
        "\n",
        "            # Convert word cloud image to base64 format for display in Dash\n",
        "            img_data = wordcloud.to_image()\n",
        "            img_bytes = io.BytesIO()\n",
        "            img_data.save(img_bytes, format='PNG')\n",
        "            img_base64 = base64.b64encode(img_bytes.getvalue()).decode()\n",
        "\n",
        "            # Display word cloud\n",
        "            word_cloud_html = html.Div([\n",
        "                html.H2('Word Cloud'),\n",
        "                html.Img(src='data:image/png;base64,{}'.format(img_base64))\n",
        "            ])\n",
        "            graph_container = word_cloud_html\n",
        "\n",
        "    return fig, details_html, graph_container, n_clicks\n",
        "\n",
        "\n",
        "# Define callback to update the post output\n",
        "@app.callback(\n",
        "    Output('post-output', 'children'),  # The component to update\n",
        "    [Input('sentiment-dropdown', 'value'),\n",
        "     Input('topic-dropdown', 'value'),\n",
        "     Input('max-emotion-dropdown', 'value')]\n",
        ")\n",
        "def display_random_post(selected_sentiment, selected_topic, selected_emotion):\n",
        "    if selected_sentiment is None or selected_topic is None or selected_emotion is None:\n",
        "        return html.P(\"Please select sentiment, topic, and max emotion.\")\n",
        "\n",
        "    # Filter the dataframe based on sentiment, topic, and max emotion\n",
        "    filtered_df = forum[\n",
        "        (forum['sentiment'] == selected_sentiment) &\n",
        "        (forum['topic_number'] == selected_topic) &\n",
        "        (forum['max_emotion'] == selected_emotion)\n",
        "    ]\n",
        "\n",
        "    if filtered_df.empty:\n",
        "        return html.P(\"No post matches the selected criteria.\")\n",
        "\n",
        "    # Get a random post from the filtered dataframe\n",
        "    example_post = filtered_df.sample(n=1).iloc[0]\n",
        "\n",
        "    return html.Div([\n",
        "        html.H3(\"Post Example\"),\n",
        "        html.P(f\"Text: {example_post['Post Text']}\"),\n",
        "        html.P(f\"Recommended Emojis: {format_emojis(example_post['Recommended Emojis'])}\",\n",
        "               style={'font-size': '30px'}),  # Large font for emojis\n",
        "        html.P(f\"Topic Emojis: {format_emojis(example_post['cleaned_topic_emojis'])}\",\n",
        "               style={'font-size': '30px'}),  # Larger font for better visibility\n",
        "\n",
        "    ], style={'padding': '10px'})  # Extra padding for cleaner presentation\n",
        "\n",
        "emoji_scale_factor = 1200\n",
        "# Define callback to update the emoji cloud\n",
        "@app.callback(\n",
        "    Output(\"emoji-cloud\", \"figure\"),\n",
        "    [Input(\"emotion-dropdown\", \"value\"), Input(\"num-emojis-slider\", \"value\")],\n",
        ")\n",
        "def update_emoji_cloud(selected_emotion, num_emojis):\n",
        "    # Filter and sort by selected emotion\n",
        "    filtered_df = emojis[[\"emoji\", selected_emotion]].copy()\n",
        "    filtered_df = filtered_df[filtered_df[selected_emotion] > 0]  # Keep only scores > 0\n",
        "    filtered_df = filtered_df.sort_values(by=selected_emotion, ascending=False)  # Sort by score\n",
        "    filtered_df = filtered_df.head(num_emojis)  # Limit to the top N emojis\n",
        "\n",
        "    # Create a scatter plot with emojis, where size represents the emotion score\n",
        "    fig = go.Figure(\n",
        "        go.Scatter(\n",
        "            x=filtered_df[\"emoji\"],  # X-axis is the emoji\n",
        "            y=[1] * len(filtered_df),  # Y-axis is constant (for positioning)\n",
        "            mode=\"text\",  # Display text (emojis)\n",
        "            text=filtered_df[\"emoji\"],  # The text to display is the emoji\n",
        "            textfont=dict(size=filtered_df[selected_emotion] * emoji_scale_factor),  # Scale by emotion score\n",
        "        )\n",
        "    )\n",
        "\n",
        "    fig.update_layout(\n",
        "        yaxis=dict(showticklabels=False, zeroline=False),\n",
        "        xaxis=dict(showticklabels=True, zeroline=False),\n",
        "        showlegend=False,\n",
        "        title=f\"Emoji Cloud for {selected_emotion}\",\n",
        "    )\n",
        "\n",
        "    return fig\n",
        "\n",
        "@app.callback(\n",
        "    Output('output-emojis', 'children'),\n",
        "    [Input('submit-button', 'n_clicks')],\n",
        "    [State('input-text', 'value')]\n",
        ")\n",
        "def update_output(n_clicks, input_text):\n",
        "    if n_clicks > 0 and input_text:\n",
        "        # Call recommending_emojis function with the input text\n",
        "        df_new = recommending_emojis(input_text)\n",
        "        # Select the Emojis Sentiment Analysis column\n",
        "        emojis_analysis = df_new['Emojis Sentiment Analysis'].iloc[0]\n",
        "        # Display the recommended emojis\n",
        "        emojis_html = [html.Span(emoji, style={'fontSize': '24px', 'padding': '5px'}) for emoji in emojis_analysis.split(',')]\n",
        "        return emojis_html\n",
        "    else:\n",
        "        return ''  # Initial state or no input text\n",
        "\n",
        "# Run the app with external display mode -> PESTAÑA NUEVA\n",
        "app.run_server(mode='external')\n"
      ],
      "metadata": {
        "colab": {
          "base_uri": "https://localhost:8080/",
          "height": 800
        },
        "id": "I0I4QBX0w-JT",
        "outputId": "a61f28f1-12a7-42b2-d434-359550cc536c"
      },
      "execution_count": 37,
      "outputs": [
        {
          "output_type": "display_data",
          "data": {
            "text/plain": [
              "<IPython.core.display.HTML object>"
            ],
            "text/html": [
              "\n",
              "  <style>\n",
              "    pre {white-space: pre-wrap;\n",
              "    }\n",
              "  </style>\n",
              "  "
            ]
          },
          "metadata": {}
        },
        {
          "output_type": "display_data",
          "data": {
            "text/plain": [
              "<IPython.core.display.HTML object>"
            ],
            "text/html": [
              "\n",
              "  <style>\n",
              "    pre {\n",
              "        white-space: pre-wrap;\n",
              "    }\n",
              "  </style>\n",
              "  "
            ]
          },
          "metadata": {}
        },
        {
          "output_type": "display_data",
          "data": {
            "text/plain": [
              "<IPython.core.display.HTML object>"
            ],
            "text/html": [
              "\n",
              "  <style>\n",
              "    pre {white-space: pre-wrap;\n",
              "    }\n",
              "  </style>\n",
              "  "
            ]
          },
          "metadata": {}
        },
        {
          "output_type": "display_data",
          "data": {
            "text/plain": [
              "<IPython.core.display.HTML object>"
            ],
            "text/html": [
              "\n",
              "  <style>\n",
              "    pre {\n",
              "        white-space: pre-wrap;\n",
              "    }\n",
              "  </style>\n",
              "  "
            ]
          },
          "metadata": {}
        },
        {
          "output_type": "stream",
          "name": "stderr",
          "text": [
            "/usr/local/lib/python3.10/dist-packages/dash/dash.py:556: UserWarning:\n",
            "\n",
            "JupyterDash is deprecated, use Dash instead.\n",
            "See https://dash.plotly.com/dash-in-jupyter for more details.\n",
            "\n"
          ]
        },
        {
          "output_type": "display_data",
          "data": {
            "text/plain": [
              "<IPython.core.display.Javascript object>"
            ],
            "application/javascript": [
              "(async (port, path, width, height, cache, element) => {\n",
              "    if (!google.colab.kernel.accessAllowed && !cache) {\n",
              "      return;\n",
              "    }\n",
              "    element.appendChild(document.createTextNode(''));\n",
              "    const url = await google.colab.kernel.proxyPort(port, {cache});\n",
              "    const iframe = document.createElement('iframe');\n",
              "    iframe.src = new URL(path, url).toString();\n",
              "    iframe.height = height;\n",
              "    iframe.width = width;\n",
              "    iframe.style.border = 0;\n",
              "    iframe.allow = [\n",
              "        'accelerometer',\n",
              "        'autoplay',\n",
              "        'camera',\n",
              "        'clipboard-read',\n",
              "        'clipboard-write',\n",
              "        'gyroscope',\n",
              "        'magnetometer',\n",
              "        'microphone',\n",
              "        'serial',\n",
              "        'usb',\n",
              "        'xr-spatial-tracking',\n",
              "    ].join('; ');\n",
              "    element.appendChild(iframe);\n",
              "  })(8050, \"/\", \"100%\", 650, false, window.element)"
            ]
          },
          "metadata": {}
        },
        {
          "output_type": "stream",
          "name": "stdout",
          "text": [
            "Dash app running on:\n"
          ]
        },
        {
          "output_type": "display_data",
          "data": {
            "text/plain": [
              "<IPython.core.display.Javascript object>"
            ],
            "application/javascript": [
              "(async (port, path, text, element) => {\n",
              "    if (!google.colab.kernel.accessAllowed) {\n",
              "      return;\n",
              "    }\n",
              "    element.appendChild(document.createTextNode(''));\n",
              "    const url = await google.colab.kernel.proxyPort(port);\n",
              "    const anchor = document.createElement('a');\n",
              "    anchor.href = new URL(path, url).toString();\n",
              "    anchor.target = '_blank';\n",
              "    anchor.setAttribute('data-href', url + path);\n",
              "    anchor.textContent = text;\n",
              "    element.appendChild(anchor);\n",
              "  })(8050, \"/\", \"http://127.0.0.1:8050/\", window.element)"
            ]
          },
          "metadata": {}
        }
      ]
    }
  ]
}